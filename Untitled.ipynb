{
 "cells": [
  {
   "cell_type": "code",
   "execution_count": 1,
   "id": "e12438d6-8ec0-4c86-977b-4a7a9c833e9a",
   "metadata": {},
   "outputs": [
    {
     "name": "stdout",
     "output_type": "stream",
     "text": [
      "9\n"
     ]
    }
   ],
   "source": [
    "print(4+5)\n"
   ]
  },
  {
   "cell_type": "code",
   "execution_count": 9,
   "id": "ccc909f6-b479-4f60-852e-3a6e12ca6306",
   "metadata": {},
   "outputs": [
    {
     "name": "stdout",
     "output_type": "stream",
     "text": [
      "10\n"
     ]
    }
   ],
   "source": [
    "x = lambda a, b=2*3: a + b\n",
    "print(x(4))  \n"
   ]
  },
  {
   "cell_type": "code",
   "execution_count": null,
   "id": "752ef967-c845-4129-abb5-1ad2b6f9358d",
   "metadata": {},
   "outputs": [],
   "source": []
  }
 ],
 "metadata": {
  "kernelspec": {
   "display_name": "Python [conda env:base] *",
   "language": "python",
   "name": "conda-base-py"
  },
  "language_info": {
   "codemirror_mode": {
    "name": "ipython",
    "version": 3
   },
   "file_extension": ".py",
   "mimetype": "text/x-python",
   "name": "python",
   "nbconvert_exporter": "python",
   "pygments_lexer": "ipython3",
   "version": "3.12.7"
  }
 },
 "nbformat": 4,
 "nbformat_minor": 5
}
