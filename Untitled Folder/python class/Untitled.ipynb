{
 "cells": [
  {
   "cell_type": "code",
   "execution_count": 1,
   "id": "8db83faf-8415-4d02-beba-d1fe1518a1bd",
   "metadata": {},
   "outputs": [
    {
     "name": "stdout",
     "output_type": "stream",
     "text": [
      "hello world\n"
     ]
    }
   ],
   "source": [
    "print(\"hello world\");"
   ]
  },
  {
   "cell_type": "code",
   "execution_count": 25,
   "id": "701f6d13-5260-4772-ab37-cc1eb795f3ad",
   "metadata": {},
   "outputs": [
    {
     "name": "stdout",
     "output_type": "stream",
     "text": [
      "56\n"
     ]
    }
   ],
   "source": [
    "a = 56\n",
    "print(a)"
   ]
  },
  {
   "cell_type": "code",
   "execution_count": null,
   "id": "cebf4403-b279-48e1-8a2b-84d85523bede",
   "metadata": {},
   "outputs": [],
   "source": []
  },
  {
   "cell_type": "markdown",
   "id": "5cf3f385-7361-4b24-8346-c86c9385942f",
   "metadata": {},
   "source": [
    " m - markdown \n",
    " y - code\n",
    " a- above \n",
    " b - below \n",
    " markdown is used to keep note\n",
    " esc - goes outer of the cell\n",
    " dd - delete the cell\n",
    " enter key - goes to edit \n",
    " shift + enter - run cell and add new cell\n",
    " ctrl + enter - run cell\n",
    " # this is python"
   ]
  },
  {
   "cell_type": "code",
   "execution_count": 27,
   "id": "2f3688fd-9ac5-4fb8-94f1-fa94c22657c7",
   "metadata": {},
   "outputs": [
    {
     "name": "stdout",
     "output_type": "stream",
     "text": [
      "hello world\n"
     ]
    }
   ],
   "source": [
    "print(\"hello world\")"
   ]
  },
  {
   "cell_type": "markdown",
   "id": "91e38801-aa74-498d-b1a7-e376d5840e08",
   "metadata": {},
   "source": [
    "### python veriable and literals\n"
   ]
  },
  {
   "cell_type": "markdown",
   "id": "88ba4971-fce9-408f-bd10-9e0d35b8f5af",
   "metadata": {},
   "source": [
    "## python variable"
   ]
  },
  {
   "cell_type": "code",
   "execution_count": 42,
   "id": "194126cc-177f-4602-a498-27405ab1729e",
   "metadata": {},
   "outputs": [],
   "source": [
    "# if i  have 10 litre water than i will initialize place to hold that water\n",
    "balti = 5\n",
    "jug = 2\n",
    "bottal= 1"
   ]
  },
  {
   "cell_type": "code",
   "execution_count": 44,
   "id": "9962e02e-3b5b-43f3-bfb8-bb1ffdd90097",
   "metadata": {},
   "outputs": [
    {
     "data": {
      "text/plain": [
       "5"
      ]
     },
     "execution_count": 44,
     "metadata": {},
     "output_type": "execute_result"
    }
   ],
   "source": [
    "balti"
   ]
  },
  {
   "cell_type": "code",
   "execution_count": 46,
   "id": "5a8c2bae-9ea2-460a-90ce-fb4ba3472e36",
   "metadata": {},
   "outputs": [],
   "source": [
    "jug= 30"
   ]
  },
  {
   "cell_type": "code",
   "execution_count": 48,
   "id": "83ecfb92-ea47-4538-a6b6-3118d3e7b110",
   "metadata": {},
   "outputs": [
    {
     "data": {
      "text/plain": [
       "30"
      ]
     },
     "execution_count": 48,
     "metadata": {},
     "output_type": "execute_result"
    }
   ],
   "source": [
    "jug"
   ]
  },
  {
   "cell_type": "code",
   "execution_count": 56,
   "id": "e86865b8-e1fe-4c07-905c-b4e265b2ca58",
   "metadata": {},
   "outputs": [
    {
     "data": {
      "text/plain": [
       "'abc'"
      ]
     },
     "execution_count": 56,
     "metadata": {},
     "output_type": "execute_result"
    }
   ],
   "source": [
    "# string assing value to variable  str\n",
    "str1= 'abc'\n",
    "str1"
   ]
  },
  {
   "cell_type": "code",
   "execution_count": 58,
   "id": "f22eae19-8d8f-4d13-aac7-85a1669c4db9",
   "metadata": {},
   "outputs": [
    {
     "ename": "SyntaxError",
     "evalue": "expected ':' (2672542397.py, line 2)",
     "output_type": "error",
     "traceback": [
      "\u001b[0;36m  Cell \u001b[0;32mIn[58], line 2\u001b[0;36m\u001b[0m\n\u001b[0;31m    def guess(x)\u001b[0m\n\u001b[0m                ^\u001b[0m\n\u001b[0;31mSyntaxError\u001b[0m\u001b[0;31m:\u001b[0m expected ':'\n"
     ]
    }
   ],
   "source": [
    "import random \n",
    "def guess(x)\n",
    "random_number= random"
   ]
  },
  {
   "cell_type": "markdown",
   "id": "559e3ae5-4190-480d-9855-fe54cea32795",
   "metadata": {},
   "source": [
    "## literals"
   ]
  },
  {
   "cell_type": "code",
   "execution_count": 63,
   "id": "e164b2f5-11bf-4125-96ab-23860584fd5e",
   "metadata": {},
   "outputs": [],
   "source": [
    "# numeric literals\n",
    "# integer\n",
    "#floater \n",
    "#complex\n",
    "\n",
    "#string\n",
    "#boolean\n",
    "#characters\n"
   ]
  },
  {
   "cell_type": "markdown",
   "id": "73bb3cda-d9cd-44a8-954b-6f064030a6ef",
   "metadata": {},
   "source": [
    "## type conversion"
   ]
  },
  {
   "cell_type": "code",
   "execution_count": 72,
   "id": "c774b4a5-1013-48e5-8cb4-a3fa206b8c01",
   "metadata": {},
   "outputs": [],
   "source": [
    "# implicit - does automatically by python\n",
    "# explicit = user define"
   ]
  },
  {
   "cell_type": "code",
   "execution_count": 74,
   "id": "4d3d5bd8-641d-4362-8e80-ebb79966bcc4",
   "metadata": {},
   "outputs": [
    {
     "name": "stdout",
     "output_type": "stream",
     "text": [
      "26.4\n"
     ]
    }
   ],
   "source": [
    "int1 = 23\n",
    "int2= 3.4\n",
    "c= int1+ int2\n",
    "print(c)"
   ]
  },
  {
   "cell_type": "code",
   "execution_count": 78,
   "id": "c7baa339-b2bd-4443-bb4f-21a04da1b431",
   "metadata": {},
   "outputs": [
    {
     "data": {
      "text/plain": [
       "float"
      ]
     },
     "execution_count": 78,
     "metadata": {},
     "output_type": "execute_result"
    }
   ],
   "source": [
    "type(int1)\n",
    "type(int2)\n",
    "type(c)"
   ]
  },
  {
   "cell_type": "markdown",
   "id": "0cccfba4-5c93-40cd-9b52-921aa1e8f888",
   "metadata": {},
   "source": [
    "`# task 2 \n"
   ]
  },
  {
   "cell_type": "code",
   "execution_count": 81,
   "id": "c988b6e5-8a23-4ff8-90bd-4e52f97434c7",
   "metadata": {},
   "outputs": [],
   "source": [
    "# str1='abc'"
   ]
  },
  {
   "cell_type": "code",
   "execution_count": 89,
   "id": "cb4c80ae-3d43-4eea-9d53-eceb2c3d5ac4",
   "metadata": {},
   "outputs": [
    {
     "name": "stdout",
     "output_type": "stream",
     "text": [
      "111\n"
     ]
    }
   ],
   "source": [
    "# str2=int(str1)\n",
    "str1='111'\n",
    "str1= int(str1)\n",
    "print(str1)"
   ]
  },
  {
   "cell_type": "code",
   "execution_count": 91,
   "id": "ea922c5a-400f-4f00-bff0-b712ae27263f",
   "metadata": {},
   "outputs": [
    {
     "name": "stdout",
     "output_type": "stream",
     "text": [
      "222.0\n"
     ]
    }
   ],
   "source": [
    "# pratice str to float\n",
    "str2= '222'\n",
    "str2= float(str2)\n",
    "print(str2)"
   ]
  },
  {
   "cell_type": "markdown",
   "id": "656d13ff-8078-453a-9961-7a048c484fcb",
   "metadata": {},
   "source": [
    "## input and output"
   ]
  },
  {
   "cell_type": "code",
   "execution_count": 98,
   "id": "d0fc561b-a90e-4ce9-873c-deec6e4dfcd6",
   "metadata": {},
   "outputs": [
    {
     "name": "stdout",
     "output_type": "stream",
     "text": [
      "this is our first class\n"
     ]
    }
   ],
   "source": [
    "# output \n",
    "print(\"this is our first class\")\n"
   ]
  },
  {
   "cell_type": "code",
   "execution_count": null,
   "id": "b78e6a87-11eb-41a4-bd9e-f8365ee154d9",
   "metadata": {},
   "outputs": [],
   "source": []
  },
  {
   "cell_type": "code",
   "execution_count": 122,
   "id": "6a8536a3-2c5a-4d31-9173-276e33e25cc1",
   "metadata": {},
   "outputs": [
    {
     "name": "stdin",
     "output_type": "stream",
     "text": [
      "enter the numebr: 23\n"
     ]
    },
    {
     "name": "stdout",
     "output_type": "stream",
     "text": [
      "23\n"
     ]
    }
   ],
   "source": [
    "#input \n",
    "a = int(input(\"enter the numebr:\"))\n",
    "print(a)\n"
   ]
  },
  {
   "cell_type": "code",
   "execution_count": 124,
   "id": "c4253f53-2dfc-470f-9f41-13f553a4ce4a",
   "metadata": {},
   "outputs": [
    {
     "name": "stdout",
     "output_type": "stream",
     "text": [
      "<class 'int'>\n"
     ]
    }
   ],
   "source": [
    "print(type(a))"
   ]
  },
  {
   "cell_type": "code",
   "execution_count": 114,
   "id": "4b2a8082-1b33-44bc-a915-34a825abe558",
   "metadata": {},
   "outputs": [],
   "source": [
    "#placeholder\n",
    "name =\"sandesh\"\n",
    "surname=\"shrestha\""
   ]
  },
  {
   "cell_type": "code",
   "execution_count": 120,
   "id": "dddbcad3-deb2-4c0b-aa84-a804a7208902",
   "metadata": {},
   "outputs": [
    {
     "name": "stdout",
     "output_type": "stream",
     "text": [
      "my name is sandesh and my surname is shrestha\n"
     ]
    }
   ],
   "source": [
    "print(\"my name is {} and my surname is {}\".format(name,surname))"
   ]
  },
  {
   "cell_type": "code",
   "execution_count": 140,
   "id": "ad85a8d6-9eeb-480c-a62b-42d4d01b74f9",
   "metadata": {},
   "outputs": [
    {
     "name": "stdin",
     "output_type": "stream",
     "text": [
      "enter yout name: sandesh\n",
      "entet your roll no: 34\n",
      "enter simester: first\n",
      "enter height: 4.6\n"
     ]
    },
    {
     "name": "stdout",
     "output_type": "stream",
     "text": [
      "name sandesh \n",
      "roll no :34 \n",
      "semester;first \n",
      "hight:4.6\n"
     ]
    }
   ],
   "source": [
    "# task 4\n",
    "name = input(\"enter yout name:\")\n",
    "roll = int(input(\"entet your roll no:\"))\n",
    "sem = input(\"enter simester:\")\n",
    "hight = float(input(\"enter height:\"))\n",
    "print(f\"Name: {name} \\nRoll no :{roll} \\nSemester;{sem} \\nhight:{hight}\")"
   ]
  },
  {
   "cell_type": "markdown",
   "id": "15852537-ce7e-4999-9b49-75ccd8b02f51",
   "metadata": {},
   "source": [
    "## Operators\n"
   ]
  },
  {
   "cell_type": "markdown",
   "id": "e64b4c82-eeac-41c7-8e0c-16304b80abd9",
   "metadata": {},
   "source": [
    "### Arithmetic Operator"
   ]
  },
  {
   "cell_type": "code",
   "execution_count": 165,
   "id": "713631af-0e88-476d-860a-bf42863c8e7a",
   "metadata": {},
   "outputs": [
    {
     "name": "stdout",
     "output_type": "stream",
     "text": [
      "27.5\n"
     ]
    }
   ],
   "source": [
    "# arithmetic operators +,-,*,/,//(floor division),%,**\n",
    "a=23\n",
    "b=4.5\n",
    "print(a+b)"
   ]
  },
  {
   "cell_type": "code",
   "execution_count": 153,
   "id": "1ab471d7-b7c3-4539-b343-00751861c397",
   "metadata": {},
   "outputs": [
    {
     "name": "stdout",
     "output_type": "stream",
     "text": [
      "18.5\n"
     ]
    }
   ],
   "source": [
    "print(a-b)"
   ]
  },
  {
   "cell_type": "code",
   "execution_count": 155,
   "id": "65ccf8a0-c135-484c-93ee-ad7d4c082f1e",
   "metadata": {},
   "outputs": [
    {
     "name": "stdout",
     "output_type": "stream",
     "text": [
      "103.5\n"
     ]
    }
   ],
   "source": [
    "print(a*b)"
   ]
  },
  {
   "cell_type": "code",
   "execution_count": 157,
   "id": "29c5dbba-7ef1-4d3e-969c-69f01215cac9",
   "metadata": {},
   "outputs": [
    {
     "name": "stdout",
     "output_type": "stream",
     "text": [
      "5.111111111111111\n"
     ]
    }
   ],
   "source": [
    "print(a/b)"
   ]
  },
  {
   "cell_type": "code",
   "execution_count": 159,
   "id": "004b50fe-4444-4388-8467-9fff2d7deeb0",
   "metadata": {},
   "outputs": [
    {
     "name": "stdout",
     "output_type": "stream",
     "text": [
      "5.0\n"
     ]
    }
   ],
   "source": [
    "print(a//b)"
   ]
  },
  {
   "cell_type": "code",
   "execution_count": 161,
   "id": "9d526ea8-8277-455f-a172-f99a5cb523c9",
   "metadata": {},
   "outputs": [
    {
     "name": "stdout",
     "output_type": "stream",
     "text": [
      "0.5\n"
     ]
    }
   ],
   "source": [
    "print(a%b)"
   ]
  },
  {
   "cell_type": "code",
   "execution_count": 163,
   "id": "42db3f8a-06ac-41cb-8d2a-75a7bc9324d9",
   "metadata": {},
   "outputs": [
    {
     "name": "stdout",
     "output_type": "stream",
     "text": [
      "1342070.2893153548\n"
     ]
    }
   ],
   "source": [
    "print(a**b)"
   ]
  },
  {
   "cell_type": "markdown",
   "id": "a87396a4-141f-453a-ba9d-04421379057d",
   "metadata": {},
   "source": [
    "### Assignment Operater"
   ]
  },
  {
   "cell_type": "code",
   "execution_count": 169,
   "id": "46327775-2db5-4541-8a56-44eb554913f6",
   "metadata": {},
   "outputs": [],
   "source": [
    "# =,-=,+=,*=,%=, **=\n"
   ]
  },
  {
   "cell_type": "code",
   "execution_count": 175,
   "id": "307a8ff1-2283-4afc-b3e9-0f9493a7bf04",
   "metadata": {},
   "outputs": [],
   "source": [
    " num1= 200.9"
   ]
  },
  {
   "cell_type": "code",
   "execution_count": 177,
   "id": "e1a9f6c2-a94c-477c-b846-7db9291dd191",
   "metadata": {},
   "outputs": [
    {
     "name": "stdout",
     "output_type": "stream",
     "text": [
      "300.9\n"
     ]
    }
   ],
   "source": [
    "num1 += 100\n",
    "print(num1)"
   ]
  },
  {
   "cell_type": "code",
   "execution_count": 179,
   "id": "035549c9-42ac-41ba-b273-090707c73497",
   "metadata": {},
   "outputs": [
    {
     "name": "stdout",
     "output_type": "stream",
     "text": [
      "200.89999999999998\n"
     ]
    }
   ],
   "source": [
    "num1 -= 100\n",
    "print(num1)"
   ]
  },
  {
   "cell_type": "code",
   "execution_count": 181,
   "id": "eb51168a-1165-4146-9ccb-3081c8d5e43c",
   "metadata": {},
   "outputs": [
    {
     "name": "stdout",
     "output_type": "stream",
     "text": [
      "20089.999999999996\n"
     ]
    }
   ],
   "source": [
    "num1 *= 100\n",
    "print(num1)"
   ]
  },
  {
   "cell_type": "code",
   "execution_count": 183,
   "id": "9615f808-d557-46b3-b437-48cb5d0f9993",
   "metadata": {},
   "outputs": [
    {
     "name": "stdout",
     "output_type": "stream",
     "text": [
      "89.99999999999636\n"
     ]
    }
   ],
   "source": [
    "num1 %= 100\n",
    "print(num1)"
   ]
  },
  {
   "cell_type": "code",
   "execution_count": 185,
   "id": "63191149-4e4d-46dd-9c8f-e505071f183e",
   "metadata": {},
   "outputs": [
    {
     "name": "stdout",
     "output_type": "stream",
     "text": [
      "0.8999999999999636\n"
     ]
    }
   ],
   "source": [
    "num1 /= 100\n",
    "print(num1)"
   ]
  },
  {
   "cell_type": "code",
   "execution_count": 191,
   "id": "293ed141-9e89-43fc-81f4-ce464d109b11",
   "metadata": {},
   "outputs": [
    {
     "name": "stdout",
     "output_type": "stream",
     "text": [
      "100\n"
     ]
    }
   ],
   "source": [
    "num1= 10\n",
    "num1 **= 2\n",
    "print(num1)"
   ]
  },
  {
   "cell_type": "markdown",
   "id": "84d6df4f-f673-4a4b-937a-80853645750c",
   "metadata": {},
   "source": [
    "### comparison operator"
   ]
  },
  {
   "cell_type": "code",
   "execution_count": 194,
   "id": "4e78f52e-3966-4c56-a21a-86ef8f7f2ae2",
   "metadata": {},
   "outputs": [],
   "source": [
    "# <,>,<=,>=,!= Boolean value\n"
   ]
  },
  {
   "cell_type": "code",
   "execution_count": 196,
   "id": "a858061b-a032-4e43-a88a-349b0dcda396",
   "metadata": {},
   "outputs": [
    {
     "name": "stdout",
     "output_type": "stream",
     "text": [
      "True\n"
     ]
    }
   ],
   "source": [
    "a=2\n",
    "b = 2.4\n",
    "print(a== int(b))"
   ]
  },
  {
   "cell_type": "code",
   "execution_count": 202,
   "id": "f7655e72-adc2-4107-85f4-d55088ac4e36",
   "metadata": {},
   "outputs": [
    {
     "data": {
      "text/plain": [
       "False"
      ]
     },
     "execution_count": 202,
     "metadata": {},
     "output_type": "execute_result"
    }
   ],
   "source": [
    "b1= 'abc'\n",
    "a1= 'ABC'\n",
    "a1==b1"
   ]
  },
  {
   "cell_type": "code",
   "execution_count": 204,
   "id": "b34ae122-1bf8-4e71-ba4e-97055951a788",
   "metadata": {},
   "outputs": [
    {
     "data": {
      "text/plain": [
       "True"
      ]
     },
     "execution_count": 204,
     "metadata": {},
     "output_type": "execute_result"
    }
   ],
   "source": [
    "a1 != b1"
   ]
  },
  {
   "cell_type": "code",
   "execution_count": 206,
   "id": "f0bd99dd-dc94-4189-a362-8928025f3862",
   "metadata": {},
   "outputs": [
    {
     "data": {
      "text/plain": [
       "True"
      ]
     },
     "execution_count": 206,
     "metadata": {},
     "output_type": "execute_result"
    }
   ],
   "source": [
    "a<b"
   ]
  },
  {
   "cell_type": "code",
   "execution_count": 208,
   "id": "d761e2ce-04f4-4f3b-a1c7-2b3d89980462",
   "metadata": {},
   "outputs": [
    {
     "data": {
      "text/plain": [
       "False"
      ]
     },
     "execution_count": 208,
     "metadata": {},
     "output_type": "execute_result"
    }
   ],
   "source": [
    "a>b"
   ]
  },
  {
   "cell_type": "code",
   "execution_count": 216,
   "id": "83d226db-308f-4eac-8e3b-886b06575d17",
   "metadata": {},
   "outputs": [
    {
     "name": "stdin",
     "output_type": "stream",
     "text": [
      "enter a number 2\n",
      "enter another number 12\n"
     ]
    },
    {
     "name": "stdout",
     "output_type": "stream",
     "text": [
      "the greater number is 12\n"
     ]
    }
   ],
   "source": [
    "a= int(input(\"enter a number\"))\n",
    "b= int(input(\"enter another number\"))\n",
    "if a>b:\n",
    "    print(\"the greater number a is\",a)\n",
    "else:\n",
    "    print(\"the greater number b is \",b)\n",
    "    "
   ]
  },
  {
   "cell_type": "code",
   "execution_count": 218,
   "id": "a1bf5343-ac1f-42c9-b7fa-0f5b3cc2d1bd",
   "metadata": {},
   "outputs": [
    {
     "data": {
      "text/plain": [
       "True"
      ]
     },
     "execution_count": 218,
     "metadata": {},
     "output_type": "execute_result"
    }
   ],
   "source": [
    "a=1\n",
    "b=2\n",
    "c=3\n",
    "d=4\n",
    "(a<b) and (c<d)"
   ]
  },
  {
   "cell_type": "code",
   "execution_count": 220,
   "id": "9723f71e-2dac-4d95-b06b-7025abd985f2",
   "metadata": {},
   "outputs": [
    {
     "data": {
      "text/plain": [
       "False"
      ]
     },
     "execution_count": 220,
     "metadata": {},
     "output_type": "execute_result"
    }
   ],
   "source": [
    "(a>b) and (c<d)"
   ]
  },
  {
   "cell_type": "code",
   "execution_count": 222,
   "id": "054d7bfc-a25d-4138-a6f8-ac5174eafa34",
   "metadata": {},
   "outputs": [
    {
     "data": {
      "text/plain": [
       "False"
      ]
     },
     "execution_count": 222,
     "metadata": {},
     "output_type": "execute_result"
    }
   ],
   "source": [
    "(a>b) and (c>d)"
   ]
  },
  {
   "cell_type": "code",
   "execution_count": 224,
   "id": "143d1956-ff4f-4d4f-aef3-baaf6643b4c6",
   "metadata": {},
   "outputs": [
    {
     "data": {
      "text/plain": [
       "True"
      ]
     },
     "execution_count": 224,
     "metadata": {},
     "output_type": "execute_result"
    }
   ],
   "source": [
    "(a>b) or (c<d)"
   ]
  },
  {
   "cell_type": "code",
   "execution_count": 226,
   "id": "673ffd1e-bb62-476a-9f11-fe190f849128",
   "metadata": {},
   "outputs": [
    {
     "data": {
      "text/plain": [
       "False"
      ]
     },
     "execution_count": 226,
     "metadata": {},
     "output_type": "execute_result"
    }
   ],
   "source": [
    "(a>b) or (c>d)"
   ]
  },
  {
   "cell_type": "code",
   "execution_count": 228,
   "id": "38c6dc38-0e90-4dfb-94bb-148bcf3c44f5",
   "metadata": {},
   "outputs": [],
   "source": [
    "#bitwise operator \n",
    "# &- bitwise And \n",
    "# !- \"         OR\n",
    "# ~-  \"       NOT\n",
    "# ^  \"          xor\n",
    "# >>    \"        RIGHT SHIFT\n",
    "# << --  \"       LEFT SHIFT "
   ]
  },
  {
   "cell_type": "code",
   "execution_count": 230,
   "id": "ef19df38-026a-4456-95e5-931fcfd56947",
   "metadata": {},
   "outputs": [],
   "source": [
    "#IDENTITY OPERATOR - IS NOT  IS \n",
    "# MEMBERSHIP OPERATOR, IN NOT IN \n"
   ]
  },
  {
   "cell_type": "code",
   "execution_count": 232,
   "id": "b8a76488-1b0f-4423-98d2-6a53e9e8ab6b",
   "metadata": {},
   "outputs": [
    {
     "data": {
      "text/plain": [
       "True"
      ]
     },
     "execution_count": 232,
     "metadata": {},
     "output_type": "execute_result"
    }
   ],
   "source": [
    "#IDENTITY OPERATOR - IS NOT  IS \n",
    "a= 3\n",
    "b= 3\n",
    "a is b"
   ]
  },
  {
   "cell_type": "code",
   "execution_count": 234,
   "id": "411e68c4-52bc-4928-a15a-740fe759a738",
   "metadata": {},
   "outputs": [
    {
     "data": {
      "text/plain": [
       "False"
      ]
     },
     "execution_count": 234,
     "metadata": {},
     "output_type": "execute_result"
    }
   ],
   "source": [
    "a= 3\n",
    "b= 3\n",
    "a is  not  b"
   ]
  },
  {
   "cell_type": "code",
   "execution_count": 236,
   "id": "52ba856a-f1f8-40c3-b888-9fcd9d90acd8",
   "metadata": {},
   "outputs": [
    {
     "data": {
      "text/plain": [
       "True"
      ]
     },
     "execution_count": 236,
     "metadata": {},
     "output_type": "execute_result"
    }
   ],
   "source": [
    "# list for in and not in \n",
    "l1 = [1,2,3,4,5,6,7,8]\n",
    "1 in l1"
   ]
  },
  {
   "cell_type": "code",
   "execution_count": 1,
   "id": "d0165365-e46c-43b0-abec-a20e1231f369",
   "metadata": {},
   "outputs": [],
   "source": [
    "#pass \n",
    "for i in range(1,10):\n",
    "    pass"
   ]
  },
  {
   "cell_type": "code",
   "execution_count": 3,
   "id": "7ad41c2c-7752-4301-8bba-2180d3687c49",
   "metadata": {},
   "outputs": [
    {
     "data": {
      "text/plain": [
       "int"
      ]
     },
     "execution_count": 3,
     "metadata": {},
     "output_type": "execute_result"
    }
   ],
   "source": [
    "#data types \n",
    "#number data types\n",
    "#int , float , complex\n",
    "i = 10 \n",
    "type(i)\n"
   ]
  },
  {
   "cell_type": "code",
   "execution_count": 5,
   "id": "f790506b-7c3b-431a-8422-7cf76619234e",
   "metadata": {},
   "outputs": [
    {
     "data": {
      "text/plain": [
       "float"
      ]
     },
     "execution_count": 5,
     "metadata": {},
     "output_type": "execute_result"
    }
   ],
   "source": [
    "i = 3.4\n",
    "type(i)"
   ]
  },
  {
   "cell_type": "code",
   "execution_count": 13,
   "id": "c4b13c11-3712-4883-9f36-bfcd3928feb8",
   "metadata": {},
   "outputs": [
    {
     "data": {
      "text/plain": [
       "complex"
      ]
     },
     "execution_count": 13,
     "metadata": {},
     "output_type": "execute_result"
    }
   ],
   "source": [
    "k = 2+3j\n",
    "type(k)"
   ]
  },
  {
   "cell_type": "code",
   "execution_count": 15,
   "id": "503a18da-1953-4cf5-862f-90bc0fdd7c29",
   "metadata": {},
   "outputs": [],
   "source": [
    "#binary \n",
    "# octal #hexa dec"
   ]
  },
  {
   "cell_type": "code",
   "execution_count": 17,
   "id": "655651cc-b906-4927-b918-5053f904b027",
   "metadata": {},
   "outputs": [],
   "source": [
    "import random"
   ]
  },
  {
   "cell_type": "code",
   "execution_count": 19,
   "id": "2bd815ea-9ba8-48dd-8282-e7375a30ae50",
   "metadata": {},
   "outputs": [
    {
     "name": "stdout",
     "output_type": "stream",
     "text": [
      "12\n"
     ]
    }
   ],
   "source": [
    "number = random.randrange(1,20)\n",
    "print(number)"
   ]
  },
  {
   "cell_type": "code",
   "execution_count": 23,
   "id": "e8b992d7-4c0b-474b-9e89-0d6e016bfc10",
   "metadata": {},
   "outputs": [
    {
     "data": {
      "text/plain": [
       "'shyam'"
      ]
     },
     "execution_count": 23,
     "metadata": {},
     "output_type": "execute_result"
    }
   ],
   "source": [
    "student = ['Ram','shyam', 'hari', 'Gopal']\n",
    "random.choice(student)\n"
   ]
  },
  {
   "cell_type": "markdown",
   "id": "cc497db4-9624-4e27-b677-7449ba2d74e7",
   "metadata": {},
   "source": [
    "## MATH\n"
   ]
  },
  {
   "cell_type": "code",
   "execution_count": 28,
   "id": "d0bb8832-2710-48f7-be8d-440fdc458ead",
   "metadata": {},
   "outputs": [
    {
     "name": "stdout",
     "output_type": "stream",
     "text": [
      "3.141592653589793\n"
     ]
    }
   ],
   "source": [
    "import math\n",
    "print(math.pi)"
   ]
  },
  {
   "cell_type": "code",
   "execution_count": 30,
   "id": "3321ef91-333a-453e-92f6-f3af71138fe2",
   "metadata": {},
   "outputs": [
    {
     "name": "stdout",
     "output_type": "stream",
     "text": [
      "-0.9880316240928618\n"
     ]
    }
   ],
   "source": [
    "print(math.sin(30))"
   ]
  },
  {
   "cell_type": "markdown",
   "id": "892ebe12-b937-4bac-bb8d-56802b8bc2b6",
   "metadata": {},
   "source": [
    "## LIST\n"
   ]
  },
  {
   "cell_type": "code",
   "execution_count": 33,
   "id": "da7d1117-8653-4423-bf7b-71c51cdd5000",
   "metadata": {},
   "outputs": [],
   "source": [
    "# creat a list in python\n",
    "#list = [] mutable\n",
    "# dictornary/ set = {}\n",
    "# tuples = (1,)"
   ]
  },
  {
   "cell_type": "code",
   "execution_count": 53,
   "id": "ea594382-f208-4394-9b14-3ce746e9829d",
   "metadata": {},
   "outputs": [],
   "source": [
    "# creat a list in python\n",
    "li = [ 1,2.3,'abc', 4+6j]\n",
    "# empty list \n",
    "li1 =[]\n",
    "# lsit inside a list \n",
    "l3 = [1,2.3,'abc',2+7j,[1,2,3]]\n"
   ]
  },
  {
   "cell_type": "code",
   "execution_count": 39,
   "id": "cb492cd0-5fa1-428b-b18a-730768f4d3e0",
   "metadata": {},
   "outputs": [],
   "source": [
    "# ordered \n",
    "# mutable \n",
    "# allow duplication\n"
   ]
  },
  {
   "cell_type": "code",
   "execution_count": 41,
   "id": "df4bb38a-db6a-4a87-9c46-9bf42646fdc5",
   "metadata": {},
   "outputs": [],
   "source": [
    "# theory - What is mutable and immutable data types in python , list them."
   ]
  },
  {
   "cell_type": "code",
   "execution_count": 43,
   "id": "0f52d5a5-09dd-40d1-ba33-39d2619367b5",
   "metadata": {},
   "outputs": [
    {
     "data": {
      "text/plain": [
       "'abc'"
      ]
     },
     "execution_count": 43,
     "metadata": {},
     "output_type": "execute_result"
    }
   ],
   "source": [
    "#access element in list \n",
    "#by index value \n",
    "l3[2]\n"
   ]
  },
  {
   "cell_type": "code",
   "execution_count": 55,
   "id": "6903eee1-aa83-4256-a5b8-92f0370a7b84",
   "metadata": {},
   "outputs": [
    {
     "data": {
      "text/plain": [
       "3"
      ]
     },
     "execution_count": 55,
     "metadata": {},
     "output_type": "execute_result"
    }
   ],
   "source": [
    "l3[4][2]"
   ]
  },
  {
   "cell_type": "code",
   "execution_count": 57,
   "id": "50326a6c-856e-462e-840a-23771afa1664",
   "metadata": {},
   "outputs": [
    {
     "data": {
      "text/plain": [
       "['h', 'g', 'f', 'e', 'd', 'c', 'b', 'a']"
      ]
     },
     "execution_count": 57,
     "metadata": {},
     "output_type": "execute_result"
    }
   ],
   "source": [
    "li1 = ['a','b','c','d','e','f','g','h']\n",
    "li1[::-1]"
   ]
  },
  {
   "cell_type": "code",
   "execution_count": 67,
   "id": "0df0849b-f2d9-4c05-87a7-a2a5762dd023",
   "metadata": {},
   "outputs": [
    {
     "data": {
      "text/plain": [
       "['a', 'b', 'c', 'd', 'e', 'f', 'g', 'h', 'apple']"
      ]
     },
     "execution_count": 67,
     "metadata": {},
     "output_type": "execute_result"
    }
   ],
   "source": [
    "li2= ['a','b','c','d','e','f','g','h']\n",
    "li2.append('apple')\n",
    "li2 "
   ]
  },
  {
   "cell_type": "code",
   "execution_count": 83,
   "id": "37a8eb42-eb22-4a6d-9718-b18cea1c1c0a",
   "metadata": {},
   "outputs": [
    {
     "data": {
      "text/plain": [
       "[1, 2.3, 'abc', (2+7j), [1, 2, 3], 1, 2.3, 'abc', (2+7j), [1, 2, 3]]"
      ]
     },
     "execution_count": 83,
     "metadata": {},
     "output_type": "execute_result"
    }
   ],
   "source": [
    "l3 = [1,2.3,'abc',2+7j,[1,2,3]]\n",
    "l3.extend(l3)\n",
    "l3"
   ]
  },
  {
   "cell_type": "code",
   "execution_count": 87,
   "id": "2387ece2-e648-4615-ace3-915c889752d7",
   "metadata": {},
   "outputs": [
    {
     "data": {
      "text/plain": [
       "['b', 'c', 'd', 'e', 'f', 'g', 'h']"
      ]
     },
     "execution_count": 87,
     "metadata": {},
     "output_type": "execute_result"
    }
   ],
   "source": [
    "#deleate element\n",
    "li1 = ['a','b','c','d','e','f','g','h']\n",
    "li1.remove('a')\n",
    "li1"
   ]
  },
  {
   "cell_type": "code",
   "execution_count": 89,
   "id": "80addb35-c452-406c-b455-b486082bc7ac",
   "metadata": {},
   "outputs": [
    {
     "data": {
      "text/plain": [
       "['c', 'd', 'e', 'f', 'g', 'h']"
      ]
     },
     "execution_count": 89,
     "metadata": {},
     "output_type": "execute_result"
    }
   ],
   "source": [
    "del li1[0]\n",
    "li1"
   ]
  },
  {
   "cell_type": "code",
   "execution_count": 97,
   "id": "e7af8365-3603-4270-8eef-a02fcd4487bb",
   "metadata": {},
   "outputs": [
    {
     "data": {
      "text/plain": [
       "6"
      ]
     },
     "execution_count": 97,
     "metadata": {},
     "output_type": "execute_result"
    }
   ],
   "source": [
    "#no of elament \n",
    "len(li1)"
   ]
  },
  {
   "cell_type": "code",
   "execution_count": 101,
   "id": "8d35d323-784f-4ff3-bfda-6f9d76eae0d8",
   "metadata": {},
   "outputs": [
    {
     "name": "stdout",
     "output_type": "stream",
     "text": [
      "0 : apple\n",
      "1 : ball\n",
      "2 : cat\n",
      "3 : dog\n"
     ]
    }
   ],
   "source": [
    "# Task 1 \n",
    "lis1= ['apple','ball','cat','dog']\n",
    "for i, value in enumerate(lis1):\n",
    "    print(i,\":\", value) "
   ]
  },
  {
   "cell_type": "markdown",
   "id": "9cfdde7f-b6fe-46c0-8836-f8a15a6c5e41",
   "metadata": {},
   "source": [
    "## Tuple"
   ]
  },
  {
   "cell_type": "code",
   "execution_count": 104,
   "id": "e4a62f31-404e-4cf0-a76a-83b1b932b5cf",
   "metadata": {},
   "outputs": [
    {
     "data": {
      "text/plain": [
       "(1, 1, 2, 3, 4, 6)"
      ]
     },
     "execution_count": 104,
     "metadata": {},
     "output_type": "execute_result"
    }
   ],
   "source": [
    "# tuple= ()\n",
    "t1 = (1,1,2,3,4,6)\n",
    "t1"
   ]
  },
  {
   "cell_type": "code",
   "execution_count": 106,
   "id": "bd213b69-53d9-4550-afe0-5a2e30af546f",
   "metadata": {},
   "outputs": [
    {
     "data": {
      "text/plain": [
       "tuple"
      ]
     },
     "execution_count": 106,
     "metadata": {},
     "output_type": "execute_result"
    }
   ],
   "source": [
    "type(t1)\n"
   ]
  },
  {
   "cell_type": "code",
   "execution_count": 108,
   "id": "ba4a193f-d670-42cd-9b34-b2d6e1858c6d",
   "metadata": {},
   "outputs": [],
   "source": [
    "# ordered\n",
    "#immutable \n",
    "#allow duplicaation\n"
   ]
  },
  {
   "cell_type": "code",
   "execution_count": 114,
   "id": "d093afc5-a43b-4a93-a54e-5daaa0eec249",
   "metadata": {},
   "outputs": [
    {
     "data": {
      "text/plain": [
       "tuple"
      ]
     },
     "execution_count": 114,
     "metadata": {},
     "output_type": "execute_result"
    }
   ],
   "source": [
    "t2 =(1,)\n",
    "type(t2)"
   ]
  },
  {
   "cell_type": "code",
   "execution_count": 116,
   "id": "4bc4425e-c85b-4b47-aea7-8102f5e53ae6",
   "metadata": {},
   "outputs": [
    {
     "data": {
      "text/plain": [
       "1"
      ]
     },
     "execution_count": 116,
     "metadata": {},
     "output_type": "execute_result"
    }
   ],
   "source": [
    "len(t2)"
   ]
  },
  {
   "cell_type": "markdown",
   "id": "fb2a4370-9731-4ed6-99d5-00af8865b3c8",
   "metadata": {},
   "source": [
    "## string"
   ]
  },
  {
   "cell_type": "code",
   "execution_count": 120,
   "id": "942a4e9a-ed3c-46b1-9a18-2bbc8f937831",
   "metadata": {},
   "outputs": [
    {
     "data": {
      "text/plain": [
       "str"
      ]
     },
     "execution_count": 120,
     "metadata": {},
     "output_type": "execute_result"
    }
   ],
   "source": [
    "str1= \"my Name is sandesh\"\n",
    "type(str1)"
   ]
  },
  {
   "cell_type": "code",
   "execution_count": 126,
   "id": "5009906b-f499-473c-8e13-c733daed7657",
   "metadata": {},
   "outputs": [
    {
     "data": {
      "text/plain": [
       "'y '"
      ]
     },
     "execution_count": 126,
     "metadata": {},
     "output_type": "execute_result"
    }
   ],
   "source": [
    "str1[1:3]"
   ]
  },
  {
   "cell_type": "code",
   "execution_count": 130,
   "id": "f8c0db82-ea20-413e-ac03-f4dfc9a1f894",
   "metadata": {},
   "outputs": [
    {
     "data": {
      "text/plain": [
       "['my', 'Name', 'is', 'sandesh']"
      ]
     },
     "execution_count": 130,
     "metadata": {},
     "output_type": "execute_result"
    }
   ],
   "source": [
    "str1.split()\n"
   ]
  },
  {
   "cell_type": "code",
   "execution_count": 132,
   "id": "a1e06acf-c804-4ed6-9d5b-4f4206097abb",
   "metadata": {},
   "outputs": [
    {
     "data": {
      "text/plain": [
       "True"
      ]
     },
     "execution_count": 132,
     "metadata": {},
     "output_type": "execute_result"
    }
   ],
   "source": [
    "str1= 'ABC'\n",
    "str2= 'abc'\n",
    "str1== str2.upper()\n"
   ]
  },
  {
   "cell_type": "code",
   "execution_count": 136,
   "id": "44bd8cc6-12ea-4f19-b576-0fe8e75ba266",
   "metadata": {},
   "outputs": [
    {
     "data": {
      "text/plain": [
       "'ABCabcabc'"
      ]
     },
     "execution_count": 136,
     "metadata": {},
     "output_type": "execute_result"
    }
   ],
   "source": [
    "str1 += str2\n",
    "str1"
   ]
  },
  {
   "cell_type": "code",
   "execution_count": 140,
   "id": "cf8334ef-c6b7-4f88-bde4-972118e91e2a",
   "metadata": {},
   "outputs": [
    {
     "name": "stdout",
     "output_type": "stream",
     "text": [
      "A\n",
      "B\n",
      "C\n",
      "a\n",
      "b\n",
      "c\n",
      "a\n",
      "b\n",
      "c\n"
     ]
    }
   ],
   "source": [
    "for char in str1:\n",
    "    print(char)"
   ]
  },
  {
   "cell_type": "code",
   "execution_count": 142,
   "id": "333fa1a9-687d-450d-959d-e8708de351df",
   "metadata": {},
   "outputs": [
    {
     "data": {
      "text/plain": [
       "True"
      ]
     },
     "execution_count": 142,
     "metadata": {},
     "output_type": "execute_result"
    }
   ],
   "source": [
    "#membership \n",
    "str2=\"this is python\"\n",
    "'this' in str2"
   ]
  },
  {
   "cell_type": "code",
   "execution_count": 144,
   "id": "1c6120bc-8c6e-4131-b6a9-386484ab7467",
   "metadata": {},
   "outputs": [
    {
     "data": {
      "text/plain": [
       "\"you're beautiful\""
      ]
     },
     "execution_count": 144,
     "metadata": {},
     "output_type": "execute_result"
    }
   ],
   "source": [
    "#escape character \n",
    "str2 = \"you\\'re beautiful\"\n",
    "str2"
   ]
  },
  {
   "cell_type": "code",
   "execution_count": 146,
   "id": "a04b352c-f5af-4501-b4e2-beedf7cdad0c",
   "metadata": {},
   "outputs": [
    {
     "name": "stdout",
     "output_type": "stream",
     "text": [
      "My name is sandesh and age is 19\n"
     ]
    }
   ],
   "source": [
    "# fstring \n",
    "name =\"sandesh\"\n",
    "age = 19\n",
    "print(f\"My name is {name} and age is {age}\") "
   ]
  },
  {
   "cell_type": "markdown",
   "id": "23feb577-b4b7-4e09-a41c-cda5d47d7f38",
   "metadata": {},
   "source": [
    "## Set\n"
   ]
  },
  {
   "cell_type": "code",
   "execution_count": 169,
   "id": "7751734d-c9e5-4801-b467-75ee7b98463a",
   "metadata": {},
   "outputs": [
    {
     "data": {
      "text/plain": [
       "{1, 2, 3, 4, 5}"
      ]
     },
     "execution_count": 169,
     "metadata": {},
     "output_type": "execute_result"
    }
   ],
   "source": [
    "# unique -(no duplicates)\n",
    "#unorder\n",
    "# define a set\n",
    "set1= {2,1,3,4,5,5}\n",
    "set1"
   ]
  },
  {
   "cell_type": "code",
   "execution_count": 167,
   "id": "df1913db-869c-4b7c-ab07-3567839eb11e",
   "metadata": {},
   "outputs": [
    {
     "data": {
      "text/plain": [
       "set"
      ]
     },
     "execution_count": 167,
     "metadata": {},
     "output_type": "execute_result"
    }
   ],
   "source": [
    "#creat a empty set\n",
    "s1=set()\n",
    "type(s1)\n"
   ]
  },
  {
   "cell_type": "code",
   "execution_count": 155,
   "id": "82b88a6f-d1bf-4a2a-814c-d113aeeabb28",
   "metadata": {},
   "outputs": [],
   "source": [
    "# support set opperation like union, intersection, difference\n"
   ]
  },
  {
   "cell_type": "code",
   "execution_count": 157,
   "id": "c37bcc2c-d43d-4b77-b1fb-12a9d47bb78d",
   "metadata": {},
   "outputs": [
    {
     "data": {
      "text/plain": [
       "{10}"
      ]
     },
     "execution_count": 157,
     "metadata": {},
     "output_type": "execute_result"
    }
   ],
   "source": [
    "# add()\n",
    "s1. add(10)\n",
    "s1\n"
   ]
  },
  {
   "cell_type": "code",
   "execution_count": 177,
   "id": "0c0ae283-cbe5-46cd-bf87-deb774256099",
   "metadata": {},
   "outputs": [
    {
     "name": "stdout",
     "output_type": "stream",
     "text": [
      "{1, 2, 3, 4, 5, 6, 7, 8}\n"
     ]
    }
   ],
   "source": [
    "#creat to set and proforme union interaction and difference ,symmetric different is subset\n",
    "setA= {2,4,6,8}\n",
    "setB= {1,3,5,2,7}\n",
    "print(setA.union(setB))"
   ]
  },
  {
   "cell_type": "code",
   "execution_count": 179,
   "id": "a95a52b7-b27a-48ef-a83e-eb6b065c8376",
   "metadata": {},
   "outputs": [
    {
     "name": "stdout",
     "output_type": "stream",
     "text": [
      "{1, 2, 3, 4, 5, 6, 7, 8}\n"
     ]
    }
   ],
   "source": [
    "print(setA|setB)"
   ]
  },
  {
   "cell_type": "code",
   "execution_count": 181,
   "id": "fc6586ac-3c79-4113-9b8a-f8b17d31e403",
   "metadata": {},
   "outputs": [
    {
     "name": "stdout",
     "output_type": "stream",
     "text": [
      "{2}\n"
     ]
    }
   ],
   "source": [
    "print(setA.intersection(setB))"
   ]
  },
  {
   "cell_type": "code",
   "execution_count": 189,
   "id": "8ec0bd56-e531-40b3-af15-6b3a1523fed2",
   "metadata": {},
   "outputs": [
    {
     "data": {
      "text/plain": [
       "{4, 6, 8}"
      ]
     },
     "execution_count": 189,
     "metadata": {},
     "output_type": "execute_result"
    }
   ],
   "source": [
    "setA.difference(setB)"
   ]
  },
  {
   "cell_type": "code",
   "execution_count": 191,
   "id": "cc9f783c-0b9f-4cc7-aefa-d68d12ecd582",
   "metadata": {},
   "outputs": [
    {
     "data": {
      "text/plain": [
       "{1, 3, 4, 5, 6, 7, 8}"
      ]
     },
     "execution_count": 191,
     "metadata": {},
     "output_type": "execute_result"
    }
   ],
   "source": [
    "setA.symmetric_difference(setB)"
   ]
  },
  {
   "cell_type": "code",
   "execution_count": 197,
   "id": "74df0214-fcdb-4e0d-adfc-00270c01e870",
   "metadata": {},
   "outputs": [
    {
     "data": {
      "text/plain": [
       "False"
      ]
     },
     "execution_count": 197,
     "metadata": {},
     "output_type": "execute_result"
    }
   ],
   "source": [
    "setA.issubset(setB)"
   ]
  },
  {
   "cell_type": "markdown",
   "id": "6f145e5f-1af8-4396-b4e1-4ee6ff55cb0a",
   "metadata": {},
   "source": [
    "## Dictionary "
   ]
  },
  {
   "cell_type": "code",
   "execution_count": 202,
   "id": "73d3290e-ad7a-4437-8ac9-22a99221a835",
   "metadata": {},
   "outputs": [],
   "source": [
    "#key : value pait \n",
    "#creating dictonary\n",
    "studen= {\n",
    "    'name': 'Alex',\n",
    "    'Age' : 23,\n",
    "    'Address':'KTM',\n",
    "    'height': 4.5\n",
    "}"
   ]
  },
  {
   "cell_type": "code",
   "execution_count": 206,
   "id": "4a1e8e7f-a7eb-4565-b7be-39c0d4e8f4aa",
   "metadata": {},
   "outputs": [
    {
     "data": {
      "text/plain": [
       "{'name': 'Alex', 'Age': 23, 'Address': 'KTM', 'height': 4.5}"
      ]
     },
     "execution_count": 206,
     "metadata": {},
     "output_type": "execute_result"
    }
   ],
   "source": [
    "studen"
   ]
  },
  {
   "cell_type": "code",
   "execution_count": 208,
   "id": "b3203bca-8400-45d2-912f-1e9a26d9ed9f",
   "metadata": {},
   "outputs": [
    {
     "data": {
      "text/plain": [
       "dict"
      ]
     },
     "execution_count": 208,
     "metadata": {},
     "output_type": "execute_result"
    }
   ],
   "source": [
    "type(studen)"
   ]
  },
  {
   "cell_type": "code",
   "execution_count": 212,
   "id": "4756abe0-2303-4cb0-a4ad-30b17a0f5cd4",
   "metadata": {},
   "outputs": [
    {
     "data": {
      "text/plain": [
       "'Alex'"
      ]
     },
     "execution_count": 212,
     "metadata": {},
     "output_type": "execute_result"
    }
   ],
   "source": [
    "studen['name']"
   ]
  },
  {
   "cell_type": "code",
   "execution_count": 216,
   "id": "45f49341-5e69-447d-9b8f-7c1494755764",
   "metadata": {},
   "outputs": [
    {
     "data": {
      "text/plain": [
       "{'name': 'Alex', 'Age': 23, 'Address': 'KTM', 'height': 4.5, 'Weight': 45}"
      ]
     },
     "execution_count": 216,
     "metadata": {},
     "output_type": "execute_result"
    }
   ],
   "source": [
    "#add items to dictonary\n",
    "studen ['Weight']=45\n",
    "studen"
   ]
  },
  {
   "cell_type": "code",
   "execution_count": 220,
   "id": "2a920d00-0c37-4cc0-ab7c-98024084fd3f",
   "metadata": {},
   "outputs": [
    {
     "data": {
      "text/plain": [
       "{'name': 'Alex', 'Age': 23, 'Address': 'KTM', 'Weight': 45}"
      ]
     },
     "execution_count": 220,
     "metadata": {},
     "output_type": "execute_result"
    }
   ],
   "source": [
    "#remove\n",
    "del studen ['height']\n",
    "studen"
   ]
  },
  {
   "cell_type": "code",
   "execution_count": 226,
   "id": "0d1ab281-33fd-473b-a86b-0d2cae1351cb",
   "metadata": {},
   "outputs": [
    {
     "name": "stdout",
     "output_type": "stream",
     "text": [
      "name\n",
      "Age\n",
      "Address\n",
      "Weight\n"
     ]
    }
   ],
   "source": [
    "#iterate1\n",
    "for  data in studen:\n",
    "    print(data)"
   ]
  },
  {
   "cell_type": "code",
   "execution_count": 230,
   "id": "b8ac64de-f613-48f4-95d8-bd89f604c00b",
   "metadata": {},
   "outputs": [
    {
     "name": "stdout",
     "output_type": "stream",
     "text": [
      "Alex\n",
      "23\n",
      "KTM\n",
      "45\n"
     ]
    }
   ],
   "source": [
    "#iterate2\n",
    "for  data in studen:\n",
    "    print(studen[data])"
   ]
  },
  {
   "cell_type": "code",
   "execution_count": 234,
   "id": "75447339-c6af-48ba-bad5-d58b97144859",
   "metadata": {},
   "outputs": [
    {
     "name": "stdout",
     "output_type": "stream",
     "text": [
      "name : Alex\n",
      "Age : 23\n",
      "Address : KTM\n",
      "Weight : 45\n"
     ]
    }
   ],
   "source": [
    "#iterate3\n",
    "for data in studen:\n",
    "    print(data,\":\",studen[data])"
   ]
  },
  {
   "cell_type": "code",
   "execution_count": 236,
   "id": "85745ef9-b5ba-443f-b679-169b8956108e",
   "metadata": {},
   "outputs": [
    {
     "data": {
      "text/plain": [
       "4"
      ]
     },
     "execution_count": 236,
     "metadata": {},
     "output_type": "execute_result"
    }
   ],
   "source": [
    "len(studen)"
   ]
  },
  {
   "cell_type": "code",
   "execution_count": 240,
   "id": "63a52873-581f-4fe6-ae13-47043e8a5180",
   "metadata": {},
   "outputs": [
    {
     "data": {
      "text/plain": [
       "dict_values(['Alex', 23, 'KTM', 45])"
      ]
     },
     "execution_count": 240,
     "metadata": {},
     "output_type": "execute_result"
    }
   ],
   "source": [
    "studen.values()"
   ]
  },
  {
   "cell_type": "code",
   "execution_count": 244,
   "id": "d90edac2-9982-444c-b75d-cf9f5cdb8cc3",
   "metadata": {},
   "outputs": [
    {
     "data": {
      "text/plain": [
       "dict_keys(['name', 'Age', 'Address', 'Weight'])"
      ]
     },
     "execution_count": 244,
     "metadata": {},
     "output_type": "execute_result"
    }
   ],
   "source": [
    "studen.keys()"
   ]
  },
  {
   "cell_type": "code",
   "execution_count": 248,
   "id": "8ad0d5a5-31fb-4a48-a40e-39c05b0f712f",
   "metadata": {},
   "outputs": [
    {
     "data": {
      "text/plain": [
       "{'name': ['rame', 'shyam', 'hari'], 'age': [2, 3, 5]}"
      ]
     },
     "execution_count": 248,
     "metadata": {},
     "output_type": "execute_result"
    }
   ],
   "source": [
    "student={\n",
    "    'name':['rame','shyam','hari'],\n",
    "    'age': [2,3,5]\n",
    "        \n",
    "}\n",
    "\n",
    "student\n"
   ]
  },
  {
   "cell_type": "code",
   "execution_count": 250,
   "id": "c144b673-b3bc-47bf-afd7-82d2230bcc2a",
   "metadata": {},
   "outputs": [
    {
     "data": {
      "text/plain": [
       "'shyam'"
      ]
     },
     "execution_count": 250,
     "metadata": {},
     "output_type": "execute_result"
    }
   ],
   "source": [
    "student['name'][1]"
   ]
  },
  {
   "cell_type": "code",
   "execution_count": 297,
   "id": "e76a63bb-193a-4083-80a1-4e46ab1292b8",
   "metadata": {},
   "outputs": [
    {
     "data": {
      "text/plain": [
       "{'apple': 3, 'banana': 5, 'orange': 2}"
      ]
     },
     "execution_count": 297,
     "metadata": {},
     "output_type": "execute_result"
    }
   ],
   "source": [
    "# WAP that creat a dic with the following key value pairs\n",
    "fruits={\n",
    "    'apple':3,\n",
    "    'banana':5,\n",
    "    'orange':2\n",
    "}\n",
    "fruits"
   ]
  },
  {
   "cell_type": "code",
   "execution_count": 299,
   "id": "175e60d6-ea8e-4e8f-a934-5e4bf4d45c85",
   "metadata": {},
   "outputs": [
    {
     "data": {
      "text/plain": [
       "{'apple': 3, 'banana': 5, 'orange': 2, 'grape': 4}"
      ]
     },
     "execution_count": 299,
     "metadata": {},
     "output_type": "execute_result"
    }
   ],
   "source": [
    "fruits['grape']=4\n",
    "fruits"
   ]
  },
  {
   "cell_type": "code",
   "execution_count": 301,
   "id": "e131bb69-cc4d-4a37-ad4c-87519b22b7e0",
   "metadata": {},
   "outputs": [
    {
     "data": {
      "text/plain": [
       "{'apple': 3, 'banana': 6, 'orange': 2, 'grape': 4}"
      ]
     },
     "execution_count": 301,
     "metadata": {},
     "output_type": "execute_result"
    }
   ],
   "source": [
    "fruits.update({'banana':6})\n",
    "fruits"
   ]
  },
  {
   "cell_type": "code",
   "execution_count": 303,
   "id": "5ad38b37-aa49-459a-98a4-ed4bfc95c4be",
   "metadata": {},
   "outputs": [
    {
     "data": {
      "text/plain": [
       "{'apple': 3, 'banana': 6, 'grape': 4}"
      ]
     },
     "execution_count": 303,
     "metadata": {},
     "output_type": "execute_result"
    }
   ],
   "source": [
    "del fruits['orange']\n",
    "fruits"
   ]
  },
  {
   "cell_type": "markdown",
   "id": "a2395044-1d1d-4427-965a-ca008583d743",
   "metadata": {},
   "source": [
    "## funcrion\n"
   ]
  },
  {
   "cell_type": "code",
   "execution_count": 313,
   "id": "eb8106b2-598d-47e7-95c2-89f6425b3dc4",
   "metadata": {},
   "outputs": [
    {
     "name": "stdout",
     "output_type": "stream",
     "text": [
      "15\n"
     ]
    }
   ],
   "source": [
    "#create a function to add two number\n",
    "def add_(a,b):\n",
    "    return a+b\n",
    "\n",
    "print(add_(10,5))"
   ]
  },
  {
   "cell_type": "code",
   "execution_count": 1,
   "id": "a0a7c9ee-5f0a-4d23-8379-6fcc7b15b085",
   "metadata": {},
   "outputs": [
    {
     "name": "stdout",
     "output_type": "stream",
     "text": [
      "8\n"
     ]
    }
   ],
   "source": [
    "# *args and **kwargs\n",
    "def add_(*args):\n",
    "    print(sum(args))\n",
    "add_(2,3,3)\n"
   ]
  },
  {
   "cell_type": "code",
   "execution_count": 5,
   "id": "5d00fe10-2b18-495e-a716-706151398ef9",
   "metadata": {},
   "outputs": [
    {
     "name": "stdout",
     "output_type": "stream",
     "text": [
      "{'c': 1, 'd': 3}\n",
      "c : 1\n",
      "d : 3\n"
     ]
    }
   ],
   "source": [
    "#**kwargs\n",
    "def a(**kwargs):\n",
    "    print(kwargs)\n",
    "    for key , value in kwargs.items():\n",
    "        print(key,\":\",value)\n",
    "a(c=1,d=3)\n",
    "    "
   ]
  },
  {
   "cell_type": "code",
   "execution_count": 7,
   "id": "fcc44cb7-41dc-4f1b-8d04-025665a8a80c",
   "metadata": {},
   "outputs": [
    {
     "name": "stdout",
     "output_type": "stream",
     "text": [
      "4\n"
     ]
    }
   ],
   "source": [
    "#keyword argument , value argument \n",
    "def max_(a,b):\n",
    "    if a>b:\n",
    "        print(a)\n",
    "    else: \n",
    "        print(b)\n",
    "max_(b=4,a=2)"
   ]
  },
  {
   "cell_type": "code",
   "execution_count": 33,
   "id": "6362134c-5e21-4845-9d91-ccd594461141",
   "metadata": {},
   "outputs": [
    {
     "name": "stdout",
     "output_type": "stream",
     "text": [
      "5\n",
      "[6, 8, 10, 12, 15]\n"
     ]
    }
   ],
   "source": [
    "#creat a python function that takes multipal argument and count the no argument that are >5\n",
    "def count(*args):\n",
    "    count= 0\n",
    "    for i in args:\n",
    "        if i > 5:\n",
    "            count +=1\n",
    "            list4.append(i)\n",
    "    return count\n",
    "list4= []\n",
    "print(count(2,4,6,8,10,12,15))\n",
    "print(list4)\n"
   ]
  },
  {
   "cell_type": "code",
   "execution_count": 35,
   "id": "93e0ba25-4845-4c1f-8b44-1a4a61d26b9b",
   "metadata": {},
   "outputs": [],
   "source": [
    "#variable scope\n",
    "# global \n",
    "# local \n",
    "# non locoal"
   ]
  },
  {
   "cell_type": "code",
   "execution_count": 65,
   "id": "74c4a8df-fafd-45f0-a4fb-40e436c7239e",
   "metadata": {},
   "outputs": [],
   "source": [
    "# recrusive function - factorial example\n",
    "def fact(x):\n",
    "    if x ==1:\n",
    "        return 1\n",
    "    else: \n",
    "        return (x*fact(x-1))\n",
    "f = fact(10)"
   ]
  },
  {
   "cell_type": "code",
   "execution_count": 67,
   "id": "958a5242-bd05-4557-a027-4c9227e1f054",
   "metadata": {},
   "outputs": [
    {
     "data": {
      "text/plain": [
       "3628800"
      ]
     },
     "execution_count": 67,
     "metadata": {},
     "output_type": "execute_result"
    }
   ],
   "source": [
    "f"
   ]
  },
  {
   "cell_type": "code",
   "execution_count": 69,
   "id": "4845dc93-c150-43ce-897d-14865508f4af",
   "metadata": {},
   "outputs": [
    {
     "data": {
      "text/plain": [
       "3.141592653589793"
      ]
     },
     "execution_count": 69,
     "metadata": {},
     "output_type": "execute_result"
    }
   ],
   "source": [
    "# imporet model\n",
    "import math as m\n",
    "m.pi"
   ]
  },
  {
   "cell_type": "code",
   "execution_count": 71,
   "id": "d1f64122-ff51-449b-a78a-cbf62c014586",
   "metadata": {},
   "outputs": [
    {
     "data": {
      "text/plain": [
       "3.141592653589793"
      ]
     },
     "execution_count": 71,
     "metadata": {},
     "output_type": "execute_result"
    }
   ],
   "source": [
    "from math import pi\n",
    "pi"
   ]
  },
  {
   "cell_type": "code",
   "execution_count": 75,
   "id": "d0bb161f-9f33-4e13-b4aa-10e43fc792b3",
   "metadata": {},
   "outputs": [
    {
     "name": "stdout",
     "output_type": "stream",
     "text": [
      "this is main function\n"
     ]
    }
   ],
   "source": [
    "# main function in python \n",
    "def main():\n",
    "    print(\"this is main function\")\n",
    "if __name__ == '__main__':\n",
    "    main()"
   ]
  },
  {
   "cell_type": "markdown",
   "id": "e7f82368-efe5-4d3c-acb0-69acc6bb0b09",
   "metadata": {},
   "source": [
    "## File Hendalling\n"
   ]
  },
  {
   "cell_type": "code",
   "execution_count": 84,
   "id": "9c7f7b27-b57c-4054-b876-079146d8aaad",
   "metadata": {},
   "outputs": [
    {
     "name": "stdout",
     "output_type": "stream",
     "text": [
      "File exists\n"
     ]
    }
   ],
   "source": [
    "import os\n",
    "if os.path.exists('file1.txt'):\n",
    "    print('File exists')\n",
    "else:\n",
    "    print('No file exists')\n",
    "\n"
   ]
  },
  {
   "cell_type": "code",
   "execution_count": 88,
   "id": "6045246d-df15-4d66-acfa-b04e6e307a88",
   "metadata": {},
   "outputs": [
    {
     "data": {
      "text/plain": [
       "'/home/anish/Desktop/python/Untitled Folder/python class'"
      ]
     },
     "execution_count": 88,
     "metadata": {},
     "output_type": "execute_result"
    }
   ],
   "source": [
    "os.getcwd()"
   ]
  },
  {
   "cell_type": "code",
   "execution_count": 90,
   "id": "678eedd5-fcd0-4127-b03c-8f6430d4ad9a",
   "metadata": {},
   "outputs": [
    {
     "data": {
      "text/plain": [
       "['Untitled2.ipynb', '.ipynb_checkpoints', 'Untitled.ipynb', 'file1.txt']"
      ]
     },
     "execution_count": 90,
     "metadata": {},
     "output_type": "execute_result"
    }
   ],
   "source": [
    "os.listdir()"
   ]
  },
  {
   "cell_type": "code",
   "execution_count": null,
   "id": "2595110f-b5d5-4727-963d-574d505e5336",
   "metadata": {},
   "outputs": [],
   "source": [
    "# file = open(filename.ext,mode)\n",
    "with open('file1.txt', 'r') as file:\n",
    "    content=file.read()\n",
    "    print(content)"
   ]
  },
  {
   "cell_type": "code",
   "execution_count": null,
   "id": "100e5d42-8f05-494b-94a2-5c0b1bb175bd",
   "metadata": {},
   "outputs": [],
   "source": [
    "file = open('file1.txt','r')\n"
   ]
  },
  {
   "cell_type": "code",
   "execution_count": null,
   "id": "6b5e76d4-4958-4be5-ac1f-93aab17d27a5",
   "metadata": {},
   "outputs": [],
   "source": [
    "file"
   ]
  },
  {
   "cell_type": "code",
   "execution_count": null,
   "id": "151c6f34-b2a2-4e94-94e3-23fbddf57370",
   "metadata": {},
   "outputs": [],
   "source": [
    "file.read()"
   ]
  },
  {
   "cell_type": "code",
   "execution_count": 102,
   "id": "0a934a90-c884-4544-b95d-82bff7868497",
   "metadata": {},
   "outputs": [],
   "source": [
    "# mode  \n",
    "# 'r'= read only = file shoule be exist\n",
    "# 'w' = write = open file for writing if does not exist crest new file\n",
    "# 'x' = create a new file for writing if already exist -fail\n",
    "# 'a' = append  -open file for appinding, if does not exist creat new file \n",
    "# 'b'= binary mode\n",
    "# '+'= r+,w+"
   ]
  },
  {
   "cell_type": "code",
   "execution_count": 104,
   "id": "635e2560-2596-4c2c-b1d1-04bafe754bea",
   "metadata": {},
   "outputs": [],
   "source": [
    "with open('file1.txt','w') as file:\n",
    "    file.write('this is my file')\n",
    "    "
   ]
  },
  {
   "cell_type": "code",
   "execution_count": 110,
   "id": "49ca7c39-de11-4905-a997-5d650be38972",
   "metadata": {},
   "outputs": [],
   "source": [
    "with open('file1.txt','a') as file:\n",
    "    file.write('\\nthis is second line')"
   ]
  },
  {
   "cell_type": "code",
   "execution_count": 112,
   "id": "b132c183-fda5-42f0-b5ce-02b88ea37a5d",
   "metadata": {},
   "outputs": [],
   "source": [
    "with open('file1.txt','w') as file:\n",
    "    file.write('hi i am sandesh')"
   ]
  },
  {
   "cell_type": "code",
   "execution_count": 114,
   "id": "112a68e4-0083-44f0-8bf4-4e9f547d0903",
   "metadata": {},
   "outputs": [],
   "source": [
    "file.close()"
   ]
  },
  {
   "cell_type": "code",
   "execution_count": 145,
   "id": "df1bc5a7-fb4a-480f-8bce-0b7007e260b0",
   "metadata": {},
   "outputs": [
    {
     "name": "stdout",
     "output_type": "stream",
     "text": [
      "task 1- learn pythontask 1- learn pythontask 1- learn pythontask 1- learn pythontask 1- learn python\n"
     ]
    }
   ],
   "source": [
    "#Task 4 open a  new file if doesno exist if doesnot exit , creat a new file and write 'this is a notebook'\n",
    "# Then append 'task 1- learn python'\n",
    "if os.path.exists('file2.txt'):\n",
    "    with open('file2.txt','r') as file:\n",
    "        contant= file.read()\n",
    "        print(contant)          \n",
    "else:\n",
    "    with open('file2.txt','w') as file:\n",
    "        file.write('this is a notebook')\n",
    "        \n",
    "with open('file2.txt','a') as file:\n",
    "    file.write('\\ntask 1- learn python')"
   ]
  },
  {
   "cell_type": "markdown",
   "id": "41dcbc4a-4813-4da3-a1d5-a0af9b97af39",
   "metadata": {},
   "source": [
    "## Exception Hendaling"
   ]
  },
  {
   "cell_type": "code",
   "execution_count": 148,
   "id": "03a05d89-a49c-462a-a42f-18c041b315a3",
   "metadata": {},
   "outputs": [],
   "source": [
    "try: \n",
    "    pass\n",
    "except ExceptionType:\n",
    "    pass"
   ]
  },
  {
   "cell_type": "code",
   "execution_count": 152,
   "id": "e6bc67ce-0ac3-4227-b03e-bba0b030a73d",
   "metadata": {},
   "outputs": [
    {
     "name": "stdin",
     "output_type": "stream",
     "text": [
      "enter a number 2\n",
      "enter second number 0\n"
     ]
    },
    {
     "ename": "ZeroDivisionError",
     "evalue": "division by zero",
     "output_type": "error",
     "traceback": [
      "\u001b[0;31m---------------------------------------------------------------------------\u001b[0m",
      "\u001b[0;31mZeroDivisionError\u001b[0m                         Traceback (most recent call last)",
      "Cell \u001b[0;32mIn[152], line 4\u001b[0m\n\u001b[1;32m      2\u001b[0m num1 \u001b[38;5;241m=\u001b[39m \u001b[38;5;28mint\u001b[39m(\u001b[38;5;28minput\u001b[39m(\u001b[38;5;124m\"\u001b[39m\u001b[38;5;124menter a number\u001b[39m\u001b[38;5;124m\"\u001b[39m))\n\u001b[1;32m      3\u001b[0m num2 \u001b[38;5;241m=\u001b[39m \u001b[38;5;28mint\u001b[39m(\u001b[38;5;28minput\u001b[39m(\u001b[38;5;124m\"\u001b[39m\u001b[38;5;124menter second number\u001b[39m\u001b[38;5;124m\"\u001b[39m))\n\u001b[0;32m----> 4\u001b[0m \u001b[38;5;28mprint\u001b[39m(num1\u001b[38;5;241m/\u001b[39mnum2)\n",
      "\u001b[0;31mZeroDivisionError\u001b[0m: division by zero"
     ]
    }
   ],
   "source": [
    "#division program\n",
    "num1 = int(input(\"enter a number\"))\n",
    "num2 = int(input(\"enter second number\"))\n",
    "print(num1/num2)"
   ]
  },
  {
   "cell_type": "code",
   "execution_count": 160,
   "id": "1d0079c3-6e56-4172-84b3-20971bf4c6b0",
   "metadata": {},
   "outputs": [
    {
     "name": "stdin",
     "output_type": "stream",
     "text": [
      "enter a number 2\n",
      "enter second number 4\n"
     ]
    },
    {
     "name": "stdout",
     "output_type": "stream",
     "text": [
      "0.5\n"
     ]
    }
   ],
   "source": [
    "try:\n",
    "    num1 = int(input(\"enter a number\"))\n",
    "    num2 = int(input(\"enter second number\"))\n",
    "    print(num1/num2)\n",
    "except ZeroDivisionError:\n",
    "    print(\"second number is zero\")\n",
    "except ValueError:\n",
    "    print(\"Invalid Number\")\n"
   ]
  },
  {
   "cell_type": "code",
   "execution_count": 164,
   "id": "8b795dea-14ef-496a-8cb0-b51f07e3bb87",
   "metadata": {},
   "outputs": [
    {
     "name": "stdin",
     "output_type": "stream",
     "text": [
      "enter a number 2\n",
      "enter second number \n"
     ]
    },
    {
     "name": "stdout",
     "output_type": "stream",
     "text": [
      "The exception is invalid literal for int() with base 10: ''\n"
     ]
    }
   ],
   "source": [
    "try:\n",
    "    num1 = int(input(\"enter a number\"))\n",
    "    num2 = int(input(\"enter second number\"))\n",
    "    print(num1/num2)\n",
    "except Exception as e:\n",
    "    print(f\"The exception is {e}\")"
   ]
  },
  {
   "cell_type": "code",
   "execution_count": 166,
   "id": "b502c399-2b57-463d-89c4-e79b9d5c994f",
   "metadata": {},
   "outputs": [],
   "source": [
    "try: \n",
    "    pass\n",
    "except:\n",
    "    pass\n",
    "finally:\n",
    "    pass"
   ]
  },
  {
   "cell_type": "code",
   "execution_count": null,
   "id": "9b4113a4-1309-4744-a1f3-a1f3efefd082",
   "metadata": {},
   "outputs": [],
   "source": [
    "# Write a python program that open a file and hendall a file notfound exception if the fule does not exit.\n",
    "try:\n",
    "    with open('file4.txt', 'r') as file:\n",
    "        content = file.read()\n",
    "        print(content)\n",
    "except FileNotFoundError:\n",
    "    print('No file available')"
   ]
  },
  {
   "cell_type": "markdown",
   "id": "90b8e475-c978-4ff8-877f-7fd76c7e7a66",
   "metadata": {},
   "source": [
    "## Class\n"
   ]
  },
  {
   "cell_type": "code",
   "execution_count": 2,
   "id": "6d71b37f-3578-437c-845d-a7d25f21b555",
   "metadata": {},
   "outputs": [],
   "source": [
    "#define the class \n",
    "class MyClass:\n",
    "    pass"
   ]
  },
  {
   "cell_type": "code",
   "execution_count": 6,
   "id": "9dc5cb23-51ed-4deb-9bef-ac916017d1df",
   "metadata": {},
   "outputs": [],
   "source": [
    "#create a object of a class \n",
    "myclass =  MyClass()\n"
   ]
  },
  {
   "cell_type": "code",
   "execution_count": 8,
   "id": "ea310f3e-13f7-47d2-9b29-c2ce393d4d2c",
   "metadata": {},
   "outputs": [
    {
     "data": {
      "text/plain": [
       "<__main__.MyClass at 0x79bec903fdd0>"
      ]
     },
     "execution_count": 8,
     "metadata": {},
     "output_type": "execute_result"
    }
   ],
   "source": [
    "myclass\n"
   ]
  },
  {
   "cell_type": "code",
   "execution_count": 10,
   "id": "c4c1c30f-3e5e-4841-bbdb-c411d7362653",
   "metadata": {},
   "outputs": [],
   "source": [
    "#student class \n",
    "#attendence methord\n",
    "#some class attributes and objects"
   ]
  },
  {
   "cell_type": "code",
   "execution_count": 32,
   "id": "69f53ee4-7203-4ba1-8807-8a4892cc2b5d",
   "metadata": {},
   "outputs": [
    {
     "data": {
      "text/plain": [
       "'II'"
      ]
     },
     "execution_count": 32,
     "metadata": {},
     "output_type": "execute_result"
    }
   ],
   "source": [
    "class Student:\n",
    "    name= ''\n",
    "    status = ''\n",
    "    class_id= 'II'\n",
    "    def attendance(self):\n",
    "        print(f\"{self.name} of {self.class_id} is {self.status}\")\n",
    "\n",
    "\n",
    "# create a object of class student \n",
    "stu1=Student()\n",
    "stu1.name =\"sandesh\"\n",
    "stu1.status = \"present\"\n",
    "stu1.class_id \n"
   ]
  },
  {
   "cell_type": "code",
   "execution_count": 34,
   "id": "4476fe87-ca4c-421a-ad5f-b356e9ab6100",
   "metadata": {},
   "outputs": [
    {
     "name": "stdout",
     "output_type": "stream",
     "text": [
      "sandesh of II is present\n"
     ]
    }
   ],
   "source": [
    "stu1.attendance()"
   ]
  },
  {
   "cell_type": "code",
   "execution_count": 44,
   "id": "998a252e-1d2b-4475-b915-0e9e76898697",
   "metadata": {},
   "outputs": [],
   "source": [
    "#task 1: create a class tha calculate the area of rectangular object\n",
    "class Rectangular:\n",
    "    def __init__(self, length, breath):\n",
    "        self.length= length\n",
    "        self.breath = breath\n",
    "    def calculate_area(self):\n",
    "        print(f'Area of  rectangular object is {self.length* self.breath}')\n",
    "#object\n",
    "r1=Rectangular(4,5)\n",
    "\n"
   ]
  },
  {
   "cell_type": "code",
   "execution_count": 50,
   "id": "3fc91bac-0322-4195-870f-0f9cff585cb2",
   "metadata": {},
   "outputs": [
    {
     "name": "stdout",
     "output_type": "stream",
     "text": [
      "Area of  rectangular object is 20\n"
     ]
    }
   ],
   "source": [
    "r1.calculate_area()"
   ]
  },
  {
   "cell_type": "code",
   "execution_count": 52,
   "id": "215912dd-7fb5-42c8-98f1-cc0785158a9e",
   "metadata": {},
   "outputs": [],
   "source": [
    "# inheritence is class\n",
    "class flower():\n",
    "    name=''\n",
    "    def smell(self):\n",
    "        print('I smell wonder')\n",
    "class Rose(flower):\n",
    "    def get_name(self):\n",
    "        print(f'flower name is {self.name}')\n",
    "\n",
    "white_rose = Rose()\n",
    "        "
   ]
  },
  {
   "cell_type": "code",
   "execution_count": 54,
   "id": "2b4e6571-aa2f-447b-9c50-c425f2c542da",
   "metadata": {},
   "outputs": [],
   "source": [
    "white_rose.name= 'White Rose'\n"
   ]
  },
  {
   "cell_type": "code",
   "execution_count": 56,
   "id": "5a0dee03-3de8-4533-aafe-fa1a48e32cc2",
   "metadata": {},
   "outputs": [
    {
     "name": "stdout",
     "output_type": "stream",
     "text": [
      "I smell wonder\n"
     ]
    }
   ],
   "source": [
    "white_rose.smell()"
   ]
  },
  {
   "cell_type": "code",
   "execution_count": 58,
   "id": "aae9f311-f769-470b-a1ff-4d1b66f5fc6b",
   "metadata": {},
   "outputs": [
    {
     "name": "stdout",
     "output_type": "stream",
     "text": [
      "flower name is White Rose\n"
     ]
    }
   ],
   "source": [
    "white_rose.get_name()"
   ]
  },
  {
   "cell_type": "code",
   "execution_count": 60,
   "id": "cf8a1296-4a7a-4426-aa8c-757945977169",
   "metadata": {},
   "outputs": [],
   "source": [
    "# method  overriding\n"
   ]
  },
  {
   "cell_type": "code",
   "execution_count": 62,
   "id": "82b534a4-5aa2-4d9d-aabc-3bad92695854",
   "metadata": {},
   "outputs": [],
   "source": [
    "class flower():\n",
    "    name=''\n",
    "    def smell(self):\n",
    "        print('I smell wonder')\n",
    "class Rose(flower):\n",
    "    def get_name(self):\n",
    "        print(f'flower name is {self.name}')\n",
    "    def smell(self):\n",
    "        print('I smell nice')\n",
    "\n",
    "white_rose = Rose()\n",
    "        "
   ]
  },
  {
   "cell_type": "code",
   "execution_count": 64,
   "id": "3033e08e-5805-4c32-9197-5ad42d50b68a",
   "metadata": {},
   "outputs": [],
   "source": [
    "white_rose.name= 'White Rose'"
   ]
  },
  {
   "cell_type": "code",
   "execution_count": 68,
   "id": "42ede55a-d194-4c48-ac5d-a1e757c62aec",
   "metadata": {},
   "outputs": [
    {
     "name": "stdout",
     "output_type": "stream",
     "text": [
      "I smell nice\n"
     ]
    }
   ],
   "source": [
    "white_rose.smell()"
   ]
  },
  {
   "cell_type": "code",
   "execution_count": 72,
   "id": "36262495-b142-44fe-ac44-b332303515bc",
   "metadata": {},
   "outputs": [
    {
     "name": "stdout",
     "output_type": "stream",
     "text": [
      "flower name is White Rose\n"
     ]
    }
   ],
   "source": [
    "white_rose.get_name()"
   ]
  },
  {
   "cell_type": "code",
   "execution_count": 76,
   "id": "07198cba-7d28-4a73-b721-8f06364e56aa",
   "metadata": {},
   "outputs": [],
   "source": [
    "class flower():\n",
    "    name=''\n",
    "    def smell(self):\n",
    "        print('I smell wonder')\n",
    "class Rose(flower):\n",
    "    def get_name(self):\n",
    "        print(f'flower name is {self.name}')\n",
    "    def smell(self):\n",
    "        super().smell() #calling parent class function \n",
    "        print('I smell nice')\n",
    "\n",
    "white_rose = Rose()\n",
    "        "
   ]
  },
  {
   "cell_type": "code",
   "execution_count": 78,
   "id": "6cc56b46-0d00-4ec6-a143-d658020f5521",
   "metadata": {},
   "outputs": [],
   "source": [
    "white_rose.name= 'White Rose'"
   ]
  },
  {
   "cell_type": "code",
   "execution_count": 80,
   "id": "b60b34b4-d3a2-4cea-a11d-9d3bedaf8946",
   "metadata": {},
   "outputs": [
    {
     "name": "stdout",
     "output_type": "stream",
     "text": [
      "I smell wonder\n",
      "I smell nice\n"
     ]
    }
   ],
   "source": [
    "white_rose.smell()"
   ]
  },
  {
   "cell_type": "markdown",
   "id": "ea79d376-dee6-49d1-82ac-3dbf137f02ef",
   "metadata": {},
   "source": [
    "##  list comprehensions "
   ]
  },
  {
   "cell_type": "code",
   "execution_count": 83,
   "id": "a353dcdc-6477-4552-af2e-c8ce55ff1d1a",
   "metadata": {},
   "outputs": [],
   "source": [
    "# conclse methord to create a list \n",
    "#[expresion for item in iterable]\n"
   ]
  },
  {
   "cell_type": "code",
   "execution_count": 93,
   "id": "bfe1c32b-43fd-43df-a79d-125968a8d6c4",
   "metadata": {},
   "outputs": [
    {
     "data": {
      "text/plain": [
       "[1, 4, 9, 16, 25]"
      ]
     },
     "execution_count": 93,
     "metadata": {},
     "output_type": "execute_result"
    }
   ],
   "source": [
    "#creat a list of seuare number 1-5\n",
    "sq_num= [i**2 for i in range(1,6)]\n",
    "sq_num"
   ]
  },
  {
   "cell_type": "code",
   "execution_count": 99,
   "id": "83e21340-e9db-4719-91fc-714863fff649",
   "metadata": {},
   "outputs": [
    {
     "data": {
      "text/plain": [
       "[4, 16, 36, 64]"
      ]
     },
     "execution_count": 99,
     "metadata": {},
     "output_type": "execute_result"
    }
   ],
   "source": [
    "# list with filter \n",
    "# only get the  enen square for range (1,9)\n",
    "even_num=[num**2 for num in range(1,10) if num**2 % 2 == 0]\n",
    "even_num"
   ]
  },
  {
   "cell_type": "code",
   "execution_count": 103,
   "id": "3735ae8f-b780-45a9-a15d-3d3f310bff25",
   "metadata": {},
   "outputs": [
    {
     "data": {
      "text/plain": [
       "['INTAJ', 'RAM', 'SHYAM', 'HARI']"
      ]
     },
     "execution_count": 103,
     "metadata": {},
     "output_type": "execute_result"
    }
   ],
   "source": [
    "# convert to upper case \n",
    "name = ['intaj','ram', 'shyam', 'hari']\n",
    "name1 = [i.upper()for i in name]\n",
    "name1"
   ]
  },
  {
   "cell_type": "code",
   "execution_count": 105,
   "id": "9aff3bb5-9400-4d25-a4b0-59296bc757e2",
   "metadata": {},
   "outputs": [
    {
     "data": {
      "text/plain": [
       "{1, 4, 9, 16, 25}"
      ]
     },
     "execution_count": 105,
     "metadata": {},
     "output_type": "execute_result"
    }
   ],
   "source": [
    "#creat a dis of sq number 1-5\n",
    "d1 = {i**2 for i in range(1,6)}\n",
    "d1"
   ]
  },
  {
   "cell_type": "markdown",
   "id": "b9d813a8-b39f-4355-aa22-f5ecbe53e687",
   "metadata": {},
   "source": [
    "## Lambda function"
   ]
  },
  {
   "cell_type": "code",
   "execution_count": 108,
   "id": "9c720f7a-6e51-4857-8732-dbdd200c95bc",
   "metadata": {},
   "outputs": [],
   "source": [
    "# lambda : statement \n",
    "x = lambda : print('this is lambda function')"
   ]
  },
  {
   "cell_type": "code",
   "execution_count": 110,
   "id": "9f1b038e-b508-4a6c-bd22-4c6cf45af358",
   "metadata": {},
   "outputs": [
    {
     "name": "stdout",
     "output_type": "stream",
     "text": [
      "this is lambda function\n"
     ]
    }
   ],
   "source": [
    "x()"
   ]
  },
  {
   "cell_type": "code",
   "execution_count": 130,
   "id": "8bd4388a-64fe-47ed-bf05-b188b50cfc94",
   "metadata": {},
   "outputs": [],
   "source": [
    "x= lambda x:print(x**2)"
   ]
  },
  {
   "cell_type": "code",
   "execution_count": 132,
   "id": "85f3c007-d9c0-45af-ad0d-143da4e662c1",
   "metadata": {},
   "outputs": [
    {
     "name": "stdout",
     "output_type": "stream",
     "text": [
      "16\n"
     ]
    }
   ],
   "source": [
    "x(4)"
   ]
  },
  {
   "cell_type": "markdown",
   "id": "c2242e84-d7e7-4ce6-9ca2-980b73e97c3a",
   "metadata": {},
   "source": [
    "## Filter()\n"
   ]
  },
  {
   "cell_type": "code",
   "execution_count": 139,
   "id": "93b530ab-7032-41ff-901a-32b52ece5caf",
   "metadata": {},
   "outputs": [
    {
     "data": {
      "text/plain": [
       "[2, 12, 4, 6, 74, 56, 6, 8]"
      ]
     },
     "execution_count": 139,
     "metadata": {},
     "output_type": "execute_result"
    }
   ],
   "source": [
    "def is_even(num):\n",
    "    return num%2 == 0\n",
    "number = [2,3,12,4,6,7,74,3,56,6,8]\n",
    "even_num = filter(is_even,number)\n",
    "list(even_num)"
   ]
  },
  {
   "cell_type": "code",
   "execution_count": 143,
   "id": "8d0963bb-9bf9-4480-97d1-710cffcddf09",
   "metadata": {},
   "outputs": [
    {
     "data": {
      "text/plain": [
       "[2, 12, 4, 6, 74, 56, 6, 8]"
      ]
     },
     "execution_count": 143,
     "metadata": {},
     "output_type": "execute_result"
    }
   ],
   "source": [
    "#for above function use lamda with filter \n",
    "even_num=filter(lambda num: num%2 ==0 , number)\n",
    "list(even_num)"
   ]
  },
  {
   "cell_type": "markdown",
   "id": "32cebf59-a77b-4783-ae67-00380c18dfa7",
   "metadata": {},
   "source": [
    "## Map"
   ]
  },
  {
   "cell_type": "code",
   "execution_count": 146,
   "id": "b363b895-9bda-4a6e-979f-f1a68a15bd27",
   "metadata": {},
   "outputs": [],
   "source": [
    "#map (map_fun , interable)"
   ]
  },
  {
   "cell_type": "code",
   "execution_count": 150,
   "id": "609f2e72-31b8-4e09-9f56-72b2038d8890",
   "metadata": {},
   "outputs": [
    {
     "data": {
      "text/plain": [
       "['INTAJ', 'RAM', 'SHYAM', 'HARI']"
      ]
     },
     "execution_count": 150,
     "metadata": {},
     "output_type": "execute_result"
    }
   ],
   "source": [
    "def to_up(name):\n",
    "    return name.upper()\n",
    "name = ['intaj','ram', 'shyam', 'hari']\n",
    "m1 = map(to_up, name)\n",
    "list(m1)"
   ]
  },
  {
   "cell_type": "code",
   "execution_count": null,
   "id": "80005e0b-0d95-4974-ac43-10032c8ade2f",
   "metadata": {},
   "outputs": [],
   "source": []
  }
 ],
 "metadata": {
  "kernelspec": {
   "display_name": "Python [conda env:base] *",
   "language": "python",
   "name": "conda-base-py"
  },
  "language_info": {
   "codemirror_mode": {
    "name": "ipython",
    "version": 3
   },
   "file_extension": ".py",
   "mimetype": "text/x-python",
   "name": "python",
   "nbconvert_exporter": "python",
   "pygments_lexer": "ipython3",
   "version": "3.12.7"
  }
 },
 "nbformat": 4,
 "nbformat_minor": 5
}
