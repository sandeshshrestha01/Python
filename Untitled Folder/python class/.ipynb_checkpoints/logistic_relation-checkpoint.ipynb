{
 "cells": [
  {
   "cell_type": "code",
   "execution_count": 2,
   "id": "fedc49c4-eb13-4ffe-9675-2b9595ad273d",
   "metadata": {},
   "outputs": [],
   "source": [
    "# projects that can be done using logistic reression \n",
    "#projects\n",
    "# 1. Customer churn predection \n",
    "# 2. Email apan Detation \n",
    "# 3.Heart Desises Predection \n",
    "# 4. Loarn Approval prediction\n",
    "# 5. titanic Servival Predection\n",
    "# 6. Diabetes Predection \n",
    "# 7. Breast cancer predection"
   ]
  },
  {
   "cell_type": "code",
   "execution_count": null,
   "id": "b31d1e19-42ed-41c9-b3a2-64d875e9285c",
   "metadata": {},
   "outputs": [],
   "source": []
  }
 ],
 "metadata": {
  "kernelspec": {
   "display_name": "Python [conda env:base] *",
   "language": "python",
   "name": "conda-base-py"
  },
  "language_info": {
   "codemirror_mode": {
    "name": "ipython",
    "version": 3
   },
   "file_extension": ".py",
   "mimetype": "text/x-python",
   "name": "python",
   "nbconvert_exporter": "python",
   "pygments_lexer": "ipython3",
   "version": "3.12.7"
  }
 },
 "nbformat": 4,
 "nbformat_minor": 5
}
