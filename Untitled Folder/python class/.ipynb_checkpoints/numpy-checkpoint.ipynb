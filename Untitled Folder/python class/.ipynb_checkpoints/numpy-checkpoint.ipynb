{
 "cells": [
  {
   "cell_type": "code",
   "execution_count": 1,
   "id": "2b5ea516-3640-40ff-b01d-ab8fa5a866d8",
   "metadata": {},
   "outputs": [],
   "source": [
    "import numpy as np"
   ]
  },
  {
   "cell_type": "markdown",
   "id": "29ad0796-1d7c-4002-abb7-6717bb41a0ce",
   "metadata": {},
   "source": [
    "## Basic array creation"
   ]
  },
  {
   "cell_type": "code",
   "execution_count": 6,
   "id": "a3969f33-d691-414a-930e-e9b17ce9a66b",
   "metadata": {},
   "outputs": [],
   "source": [
    "#create 1d array\n",
    "n1=np.array([1,2,3,4])\n"
   ]
  },
  {
   "cell_type": "code",
   "execution_count": 8,
   "id": "c4b4913f-6f17-47d5-a48a-6447f642c131",
   "metadata": {},
   "outputs": [
    {
     "data": {
      "text/plain": [
       "array([1, 2, 3, 4])"
      ]
     },
     "execution_count": 8,
     "metadata": {},
     "output_type": "execute_result"
    }
   ],
   "source": [
    "n1"
   ]
  },
  {
   "cell_type": "code",
   "execution_count": 10,
   "id": "01aff858-7326-4968-b9d1-c0cae145ff8d",
   "metadata": {},
   "outputs": [
    {
     "data": {
      "text/plain": [
       "numpy.ndarray"
      ]
     },
     "execution_count": 10,
     "metadata": {},
     "output_type": "execute_result"
    }
   ],
   "source": [
    "type(n1)"
   ]
  },
  {
   "cell_type": "code",
   "execution_count": 12,
   "id": "5ec2dfbe-96b2-4e79-ba26-8e45bc44c8eb",
   "metadata": {},
   "outputs": [
    {
     "data": {
      "text/plain": [
       "array([0., 0., 0., 0., 0.])"
      ]
     },
     "execution_count": 12,
     "metadata": {},
     "output_type": "execute_result"
    }
   ],
   "source": [
    "#np. zero ()\n",
    "z1 = np.zeros(5)\n",
    "z1"
   ]
  },
  {
   "cell_type": "code",
   "execution_count": 14,
   "id": "fd73c27f-9071-4339-92a1-cc8285cffb39",
   "metadata": {},
   "outputs": [
    {
     "data": {
      "text/plain": [
       "array([1., 1., 1., 1., 1.])"
      ]
     },
     "execution_count": 14,
     "metadata": {},
     "output_type": "execute_result"
    }
   ],
   "source": [
    "#np . ones()\n",
    "a1 = np.ones(5)\n",
    "a1"
   ]
  },
  {
   "cell_type": "code",
   "execution_count": 37,
   "id": "7a00ee9a-9687-4257-90a5-7666cab36835",
   "metadata": {},
   "outputs": [],
   "source": [
    "# arange()\n",
    "b1=np .arange(1,10)"
   ]
  },
  {
   "cell_type": "code",
   "execution_count": 48,
   "id": "54850551-e0b9-49f3-8ff5-8dbba8a6b27c",
   "metadata": {},
   "outputs": [],
   "source": [
    "b2 = np. eye(3)"
   ]
  },
  {
   "cell_type": "code",
   "execution_count": 50,
   "id": "9feb9c41-ab3e-4e92-b4aa-a549f3a21af0",
   "metadata": {},
   "outputs": [
    {
     "data": {
      "text/plain": [
       "array([[1., 0., 0.],\n",
       "       [0., 1., 0.],\n",
       "       [0., 0., 1.]])"
      ]
     },
     "execution_count": 50,
     "metadata": {},
     "output_type": "execute_result"
    }
   ],
   "source": [
    "b2 "
   ]
  },
  {
   "cell_type": "code",
   "execution_count": 56,
   "id": "31ccc568-8f8a-47c6-950d-d4ae4e62d0d5",
   "metadata": {},
   "outputs": [
    {
     "data": {
      "text/plain": [
       "array([0.83294591, 0.39219584, 0.77890974, 0.18124859])"
      ]
     },
     "execution_count": 56,
     "metadata": {},
     "output_type": "execute_result"
    }
   ],
   "source": [
    "# random \n",
    "r1 = np.random.rand\n",
    "(4)\n",
    "r1"
   ]
  },
  {
   "cell_type": "markdown",
   "id": "67480d9b-4b1e-4be1-b64f-af1b22e3fbe6",
   "metadata": {},
   "source": [
    "## to inspect the array\n"
   ]
  },
  {
   "cell_type": "code",
   "execution_count": 23,
   "id": "c56912fc-9351-43b1-bb61-961894f2607a",
   "metadata": {},
   "outputs": [
    {
     "data": {
      "text/plain": [
       "1"
      ]
     },
     "execution_count": 23,
     "metadata": {},
     "output_type": "execute_result"
    }
   ],
   "source": [
    "#to check the dimension ndim\n",
    "a1.ndim"
   ]
  },
  {
   "cell_type": "code",
   "execution_count": 31,
   "id": "f6a6294b-c562-4c23-bb62-965d1fe7d5dd",
   "metadata": {},
   "outputs": [
    {
     "data": {
      "text/plain": [
       "(9,)"
      ]
     },
     "execution_count": 31,
     "metadata": {},
     "output_type": "execute_result"
    }
   ],
   "source": [
    "# shape\n",
    "b1. shape\n"
   ]
  },
  {
   "cell_type": "code",
   "execution_count": 52,
   "id": "651e3eec-70de-47e0-9a1d-3e303c5e6fe9",
   "metadata": {},
   "outputs": [
    {
     "data": {
      "text/plain": [
       "dtype('float64')"
      ]
     },
     "execution_count": 52,
     "metadata": {},
     "output_type": "execute_result"
    }
   ],
   "source": [
    "#datype\n",
    "b2.dtype"
   ]
  },
  {
   "cell_type": "markdown",
   "id": "cdc26853-d4a5-4f2e-9b1f-fad115844200",
   "metadata": {},
   "source": [
    "## 2D arr"
   ]
  },
  {
   "cell_type": "code",
   "execution_count": 65,
   "id": "4482a466-3477-4947-9d42-14cd86745051",
   "metadata": {},
   "outputs": [
    {
     "data": {
      "text/plain": [
       "array([[1, 2, 3],\n",
       "       [4, 5, 6]])"
      ]
     },
     "execution_count": 65,
     "metadata": {},
     "output_type": "execute_result"
    }
   ],
   "source": [
    "a2d = np.array([[1,2,3],[4,5,6]])\n",
    "a2d"
   ]
  },
  {
   "cell_type": "code",
   "execution_count": 67,
   "id": "66437901-4a58-45f9-9988-8a5c42e9a830",
   "metadata": {},
   "outputs": [
    {
     "data": {
      "text/plain": [
       "2"
      ]
     },
     "execution_count": 67,
     "metadata": {},
     "output_type": "execute_result"
    }
   ],
   "source": [
    "a2d.ndim"
   ]
  },
  {
   "cell_type": "code",
   "execution_count": 69,
   "id": "4d058b9e-caf1-4596-bf36-95ee243405fc",
   "metadata": {},
   "outputs": [
    {
     "data": {
      "text/plain": [
       "(2, 3)"
      ]
     },
     "execution_count": 69,
     "metadata": {},
     "output_type": "execute_result"
    }
   ],
   "source": [
    "a2d.shape\n"
   ]
  },
  {
   "cell_type": "code",
   "execution_count": 71,
   "id": "52f8dcac-a230-4f95-9334-490447ce2ef6",
   "metadata": {},
   "outputs": [
    {
     "data": {
      "text/plain": [
       "6"
      ]
     },
     "execution_count": 71,
     "metadata": {},
     "output_type": "execute_result"
    }
   ],
   "source": [
    "a2d.size"
   ]
  },
  {
   "cell_type": "code",
   "execution_count": 77,
   "id": "21db8a14-d124-4f78-9d06-9bda24ab3170",
   "metadata": {},
   "outputs": [
    {
     "data": {
      "text/plain": [
       "array([[1., 1., 1.],\n",
       "       [1., 1., 1.]])"
      ]
     },
     "execution_count": 77,
     "metadata": {},
     "output_type": "execute_result"
    }
   ],
   "source": [
    "b2d= np.ones([2,3])\n",
    "b2d"
   ]
  },
  {
   "cell_type": "markdown",
   "id": "e55d2798-ec76-42ff-9d7d-4ceabb63c6f8",
   "metadata": {},
   "source": [
    "## 3D array"
   ]
  },
  {
   "cell_type": "code",
   "execution_count": 86,
   "id": "dfcebbf3-828c-40e0-b38c-7309f4055c5c",
   "metadata": {},
   "outputs": [
    {
     "data": {
      "text/plain": [
       "array([[[1, 2],\n",
       "        [4, 5]],\n",
       "\n",
       "       [[9, 8],\n",
       "        [6, 5]]])"
      ]
     },
     "execution_count": 86,
     "metadata": {},
     "output_type": "execute_result"
    }
   ],
   "source": [
    "s3d = np.array([[[1,2],[4,5]],[[9,8],[6,5]]])\n",
    "s3d"
   ]
  },
  {
   "cell_type": "code",
   "execution_count": 88,
   "id": "70363b00-f999-4e46-acfe-ba8d0042ee81",
   "metadata": {},
   "outputs": [
    {
     "data": {
      "text/plain": [
       "8"
      ]
     },
     "execution_count": 88,
     "metadata": {},
     "output_type": "execute_result"
    }
   ],
   "source": [
    "s3d. size"
   ]
  },
  {
   "cell_type": "code",
   "execution_count": 90,
   "id": "d870e3dc-f318-4acf-a052-ec3384a3932c",
   "metadata": {},
   "outputs": [
    {
     "data": {
      "text/plain": [
       "3"
      ]
     },
     "execution_count": 90,
     "metadata": {},
     "output_type": "execute_result"
    }
   ],
   "source": [
    "s3d. ndim"
   ]
  },
  {
   "cell_type": "code",
   "execution_count": 92,
   "id": "6126bd94-39ea-432a-be64-4a880ffda2d9",
   "metadata": {},
   "outputs": [
    {
     "data": {
      "text/plain": [
       "(2, 2, 2)"
      ]
     },
     "execution_count": 92,
     "metadata": {},
     "output_type": "execute_result"
    }
   ],
   "source": [
    "s3d.shape"
   ]
  },
  {
   "cell_type": "code",
   "execution_count": 98,
   "id": "35f7ccbd-efda-4bd8-a720-d36b5c068baa",
   "metadata": {},
   "outputs": [
    {
     "data": {
      "text/plain": [
       "array([[[1, 2, 3, 4],\n",
       "        [4, 5, 6, 7]],\n",
       "\n",
       "       [[9, 8, 2, 4],\n",
       "        [4, 7, 6, 5]]])"
      ]
     },
     "execution_count": 98,
     "metadata": {},
     "output_type": "execute_result"
    }
   ],
   "source": [
    "s3d = np.array([[[1,2,3,4],[4,5,6,7]],[[9,8,2,4],[4,7,6,5]]])\n",
    "s3d"
   ]
  },
  {
   "cell_type": "code",
   "execution_count": 100,
   "id": "1f7f6044-56d6-4f7c-a543-1cd893ae6424",
   "metadata": {},
   "outputs": [
    {
     "data": {
      "text/plain": [
       "(2, 2, 4)"
      ]
     },
     "execution_count": 100,
     "metadata": {},
     "output_type": "execute_result"
    }
   ],
   "source": [
    "s3d.shape"
   ]
  },
  {
   "cell_type": "code",
   "execution_count": 120,
   "id": "01c133fc-d280-467d-afd6-a51088d42c54",
   "metadata": {},
   "outputs": [],
   "source": [
    "b3d= np.ones([2,3,3])"
   ]
  },
  {
   "cell_type": "code",
   "execution_count": 122,
   "id": "3ac4f2c8-c152-47fb-9a54-0d88f5c8e0de",
   "metadata": {},
   "outputs": [
    {
     "data": {
      "text/plain": [
       "array([[[1., 1., 1.],\n",
       "        [1., 1., 1.],\n",
       "        [1., 1., 1.]],\n",
       "\n",
       "       [[1., 1., 1.],\n",
       "        [1., 1., 1.],\n",
       "        [1., 1., 1.]]])"
      ]
     },
     "execution_count": 122,
     "metadata": {},
     "output_type": "execute_result"
    }
   ],
   "source": [
    "b3d"
   ]
  },
  {
   "cell_type": "code",
   "execution_count": 106,
   "id": "f3c37714-a73c-4311-8625-dc6a3caee7ad",
   "metadata": {},
   "outputs": [
    {
     "data": {
      "text/plain": [
       "3"
      ]
     },
     "execution_count": 106,
     "metadata": {},
     "output_type": "execute_result"
    }
   ],
   "source": [
    "b3d.ndim"
   ]
  },
  {
   "cell_type": "markdown",
   "id": "9cd33c08-cbda-4137-b258-4e5792f4e995",
   "metadata": {},
   "source": [
    "## Array manipulation"
   ]
  },
  {
   "cell_type": "code",
   "execution_count": 133,
   "id": "69ffbcce-39fb-4fea-8061-08747b4052cc",
   "metadata": {},
   "outputs": [
    {
     "name": "stdout",
     "output_type": "stream",
     "text": [
      "(4,)\n"
     ]
    },
    {
     "data": {
      "text/plain": [
       "array([[1, 2],\n",
       "       [3, 4]])"
      ]
     },
     "execution_count": 133,
     "metadata": {},
     "output_type": "execute_result"
    }
   ],
   "source": [
    "l1= np.array([1,2,3,4])\n",
    "print(l1.shape)\n",
    "np.reshape(l1,(2,2))"
   ]
  },
  {
   "cell_type": "code",
   "execution_count": 151,
   "id": "3a75aa6c-c4ee-47ef-98ed-dd4183391960",
   "metadata": {},
   "outputs": [
    {
     "data": {
      "text/plain": [
       "array([[1, 2, 3, 4],\n",
       "       [5, 6, 7, 8]])"
      ]
     },
     "execution_count": 151,
     "metadata": {},
     "output_type": "execute_result"
    }
   ],
   "source": [
    "l1= np.array([1,2,3,4,5,6,7,8])\n",
    "np.reshape(l1,(2,4))"
   ]
  },
  {
   "cell_type": "code",
   "execution_count": 153,
   "id": "d09618b2-2b5b-40a2-82b9-3a8797875846",
   "metadata": {},
   "outputs": [
    {
     "data": {
      "text/plain": [
       "array([[[1, 2],\n",
       "        [3, 4]],\n",
       "\n",
       "       [[5, 6],\n",
       "        [7, 8]]])"
      ]
     },
     "execution_count": 153,
     "metadata": {},
     "output_type": "execute_result"
    }
   ],
   "source": [
    "np.reshape(l1, (2,2,2))"
   ]
  },
  {
   "cell_type": "code",
   "execution_count": 157,
   "id": "2fcc4870-a561-4c32-bb65-1fe4ad22d033",
   "metadata": {},
   "outputs": [
    {
     "data": {
      "text/plain": [
       "array([1, 2, 3, 4, 5, 6, 7, 8])"
      ]
     },
     "execution_count": 157,
     "metadata": {},
     "output_type": "execute_result"
    }
   ],
   "source": [
    "#flatten - multi dimension to id \n",
    "flatte_l1 = l1.flatten()\n",
    "flatte_l1"
   ]
  },
  {
   "cell_type": "code",
   "execution_count": 159,
   "id": "af4380fe-5e75-4896-a1df-5b2b58af9e3d",
   "metadata": {},
   "outputs": [],
   "source": [
    "#transpose\n"
   ]
  },
  {
   "cell_type": "code",
   "execution_count": 163,
   "id": "8a410aaf-c78b-43bd-b64e-fe87f079fe83",
   "metadata": {},
   "outputs": [],
   "source": [
    "#concatenate()\n",
    "a1= np.array([1,2,3,4])\n",
    "a2 = np.array([9,8,7,6])\n",
    "carr = np.concatenate((a1,a2))"
   ]
  },
  {
   "cell_type": "code",
   "execution_count": 165,
   "id": "aae9c8cf-5720-485a-9b8f-f7e698ac0b80",
   "metadata": {},
   "outputs": [
    {
     "data": {
      "text/plain": [
       "array([1, 2, 3, 4, 9, 8, 7, 6])"
      ]
     },
     "execution_count": 165,
     "metadata": {},
     "output_type": "execute_result"
    }
   ],
   "source": [
    "carr"
   ]
  },
  {
   "cell_type": "code",
   "execution_count": 169,
   "id": "258e8f34-5f5b-451d-a3d7-3233308d4b90",
   "metadata": {},
   "outputs": [
    {
     "data": {
      "text/plain": [
       "array([[1, 2],\n",
       "       [3, 4],\n",
       "       [9, 8],\n",
       "       [7, 6]])"
      ]
     },
     "execution_count": 169,
     "metadata": {},
     "output_type": "execute_result"
    }
   ],
   "source": [
    "a1= np.array([[1,2],[3,4]])\n",
    "a2 = np.array([[9,8],[7,6]])\n",
    "carr = np.concatenate((a1,a2))\n",
    "carr"
   ]
  },
  {
   "cell_type": "code",
   "execution_count": 171,
   "id": "f10de019-470e-4970-b1b5-7aafde99457c",
   "metadata": {},
   "outputs": [],
   "source": [
    "#stack \n",
    "#hastack\n",
    "#vstack\n",
    "#split\n"
   ]
  },
  {
   "cell_type": "code",
   "execution_count": 175,
   "id": "f0532fcf-b562-41a9-822c-2a928220ebf7",
   "metadata": {},
   "outputs": [
    {
     "data": {
      "text/plain": [
       "array([[[1, 2],\n",
       "        [3, 4]],\n",
       "\n",
       "       [[9, 8],\n",
       "        [7, 6]]])"
      ]
     },
     "execution_count": 175,
     "metadata": {},
     "output_type": "execute_result"
    }
   ],
   "source": [
    "a1= np.array([[1,2],\n",
    "              [3,4]])\n",
    "a2 = np.array([[9,8],\n",
    "               [7,6]])\n",
    "np.stack((a1,a2),axis=0)"
   ]
  },
  {
   "cell_type": "code",
   "execution_count": 183,
   "id": "28706605-a614-40ba-b39c-6f9706d349d9",
   "metadata": {},
   "outputs": [
    {
     "data": {
      "text/plain": [
       "[array([1, 2]), array([3, 4]), array([5, 6])]"
      ]
     },
     "execution_count": 183,
     "metadata": {},
     "output_type": "execute_result"
    }
   ],
   "source": [
    "a1= np.array([1,2,3,4,5,6])\n",
    "np.split(a1,3)"
   ]
  },
  {
   "cell_type": "code",
   "execution_count": 187,
   "id": "e8b7fd15-ee5f-4560-819f-7bfbfbd780d6",
   "metadata": {},
   "outputs": [
    {
     "data": {
      "text/plain": [
       "array([1, 2, 5, 3, 4, 5, 6])"
      ]
     },
     "execution_count": 187,
     "metadata": {},
     "output_type": "execute_result"
    }
   ],
   "source": [
    "#insert\n",
    "np.insert(a1,2,5)"
   ]
  },
  {
   "cell_type": "code",
   "execution_count": 189,
   "id": "9a0d2c66-3010-45d0-a7de-9b12bb1b1315",
   "metadata": {},
   "outputs": [
    {
     "data": {
      "text/plain": [
       "array([1, 2, 4, 5, 6])"
      ]
     },
     "execution_count": 189,
     "metadata": {},
     "output_type": "execute_result"
    }
   ],
   "source": [
    "np.delete(a1,2)"
   ]
  },
  {
   "cell_type": "markdown",
   "id": "9922c95e-4eac-4c31-8092-d9246c34508c",
   "metadata": {},
   "source": [
    "### Array Operation\n"
   ]
  },
  {
   "cell_type": "code",
   "execution_count": 192,
   "id": "32eab4e5-b920-40dd-9685-9afea8653890",
   "metadata": {},
   "outputs": [
    {
     "data": {
      "text/plain": [
       "array([ 7,  9, 11, 13, 15])"
      ]
     },
     "execution_count": 192,
     "metadata": {},
     "output_type": "execute_result"
    }
   ],
   "source": [
    "a1 = np.array([1,2,3,4,5])\n",
    "a2 = np.array([6,7,8,9,10])\n",
    "np.add(a1,a2)"
   ]
  },
  {
   "cell_type": "code",
   "execution_count": 194,
   "id": "dae24856-5b4f-46e5-89a1-f8b9e3122bd8",
   "metadata": {},
   "outputs": [
    {
     "data": {
      "text/plain": [
       "array([[ 7,  9, 11],\n",
       "       [13, 15,  9]])"
      ]
     },
     "execution_count": 194,
     "metadata": {},
     "output_type": "execute_result"
    }
   ],
   "source": [
    "a1 = np.array([[1,2,3],[4,5,6]])\n",
    "a2 = np.array([[6,7,8],[9,10,3]])\n",
    "np.add(a1,a2)"
   ]
  },
  {
   "cell_type": "code",
   "execution_count": 196,
   "id": "ba09a2f5-cf9d-4481-90cb-723e8ea57d2b",
   "metadata": {},
   "outputs": [],
   "source": [
    "#subtract \n",
    "#nultiply()\n",
    "#divide()\n",
    "#power()\n",
    "#mod()\n",
    "#dot()\n",
    "#cross()"
   ]
  },
  {
   "cell_type": "code",
   "execution_count": 198,
   "id": "8b122567-83c8-49eb-94bf-c765beaa2222",
   "metadata": {},
   "outputs": [
    {
     "data": {
      "text/plain": [
       "array([[      1,     128,    6561],\n",
       "       [ 262144, 9765625,     216]])"
      ]
     },
     "execution_count": 198,
     "metadata": {},
     "output_type": "execute_result"
    }
   ],
   "source": [
    "np.power(a1,a2)"
   ]
  },
  {
   "cell_type": "markdown",
   "id": "4eea1c3b-f7a7-4c14-8fef-a431ce3d299d",
   "metadata": {},
   "source": [
    "### Indexing and slicing"
   ]
  },
  {
   "cell_type": "code",
   "execution_count": 205,
   "id": "e52d1db0-5084-4ae3-ad04-90de8e9c1d6d",
   "metadata": {},
   "outputs": [
    {
     "data": {
      "text/plain": [
       "4"
      ]
     },
     "execution_count": 205,
     "metadata": {},
     "output_type": "execute_result"
    }
   ],
   "source": [
    "# indexing \n",
    "a1= np.array([1,2,3,4,5])\n",
    "a1[3]"
   ]
  },
  {
   "cell_type": "code",
   "execution_count": 209,
   "id": "b9750b18-59db-4d17-af5b-495caf23eec1",
   "metadata": {},
   "outputs": [
    {
     "data": {
      "text/plain": [
       "array([1, 2, 3])"
      ]
     },
     "execution_count": 209,
     "metadata": {},
     "output_type": "execute_result"
    }
   ],
   "source": [
    "# slicing \n",
    "a1[0:3]"
   ]
  },
  {
   "cell_type": "code",
   "execution_count": 211,
   "id": "2ed23f4a-663f-4008-bc1e-9e61315d3be8",
   "metadata": {},
   "outputs": [
    {
     "data": {
      "text/plain": [
       "array([1, 2, 3, 4])"
      ]
     },
     "execution_count": 211,
     "metadata": {},
     "output_type": "execute_result"
    }
   ],
   "source": [
    "a1[:-1]"
   ]
  },
  {
   "cell_type": "code",
   "execution_count": 225,
   "id": "df21de40-e9ca-45ba-a173-e73da23138eb",
   "metadata": {},
   "outputs": [
    {
     "data": {
      "text/plain": [
       "(array([2, 3, 4]),)"
      ]
     },
     "execution_count": 225,
     "metadata": {},
     "output_type": "execute_result"
    }
   ],
   "source": [
    "\n",
    "np.where(a1>=3)"
   ]
  },
  {
   "cell_type": "code",
   "execution_count": 215,
   "id": "7c084be9-aa47-42de-8390-18104b38280c",
   "metadata": {},
   "outputs": [
    {
     "data": {
      "text/plain": [
       "array([-1, -1,  3,  4,  5])"
      ]
     },
     "execution_count": 215,
     "metadata": {},
     "output_type": "execute_result"
    }
   ],
   "source": [
    "np.where(a1>=3, a1, -1)"
   ]
  },
  {
   "cell_type": "code",
   "execution_count": 253,
   "id": "5aec87d1-f5ca-46fa-977d-33199cb4ce7c",
   "metadata": {},
   "outputs": [
    {
     "ename": "IndexError",
     "evalue": "index 3 is out of bounds for axis 0 with size 3",
     "output_type": "error",
     "traceback": [
      "\u001b[0;31m---------------------------------------------------------------------------\u001b[0m",
      "\u001b[0;31mIndexError\u001b[0m                                Traceback (most recent call last)",
      "Cell \u001b[0;32mIn[253], line 4\u001b[0m\n\u001b[1;32m      1\u001b[0m \u001b[38;5;66;03m#take\u001b[39;00m\n\u001b[1;32m      2\u001b[0m \u001b[38;5;66;03m# a1[3]\u001b[39;00m\n\u001b[1;32m      3\u001b[0m \u001b[38;5;66;03m#a1[-1]\u001b[39;00m\n\u001b[0;32m----> 4\u001b[0m np\u001b[38;5;241m.\u001b[39mtake(a1,[\u001b[38;5;241m3\u001b[39m,\u001b[38;5;241m-\u001b[39m\u001b[38;5;241m1\u001b[39m])\n",
      "File \u001b[0;32m~/anaconda3/lib/python3.12/site-packages/numpy/core/fromnumeric.py:192\u001b[0m, in \u001b[0;36mtake\u001b[0;34m(a, indices, axis, out, mode)\u001b[0m\n\u001b[1;32m     95\u001b[0m \u001b[38;5;129m@array_function_dispatch\u001b[39m(_take_dispatcher)\n\u001b[1;32m     96\u001b[0m \u001b[38;5;28;01mdef\u001b[39;00m \u001b[38;5;21mtake\u001b[39m(a, indices, axis\u001b[38;5;241m=\u001b[39m\u001b[38;5;28;01mNone\u001b[39;00m, out\u001b[38;5;241m=\u001b[39m\u001b[38;5;28;01mNone\u001b[39;00m, mode\u001b[38;5;241m=\u001b[39m\u001b[38;5;124m'\u001b[39m\u001b[38;5;124mraise\u001b[39m\u001b[38;5;124m'\u001b[39m):\n\u001b[1;32m     97\u001b[0m \u001b[38;5;250m    \u001b[39m\u001b[38;5;124;03m\"\"\"\u001b[39;00m\n\u001b[1;32m     98\u001b[0m \u001b[38;5;124;03m    Take elements from an array along an axis.\u001b[39;00m\n\u001b[1;32m     99\u001b[0m \n\u001b[0;32m   (...)\u001b[0m\n\u001b[1;32m    190\u001b[0m \u001b[38;5;124;03m           [5, 7]])\u001b[39;00m\n\u001b[1;32m    191\u001b[0m \u001b[38;5;124;03m    \"\"\"\u001b[39;00m\n\u001b[0;32m--> 192\u001b[0m     \u001b[38;5;28;01mreturn\u001b[39;00m _wrapfunc(a, \u001b[38;5;124m'\u001b[39m\u001b[38;5;124mtake\u001b[39m\u001b[38;5;124m'\u001b[39m, indices, axis\u001b[38;5;241m=\u001b[39maxis, out\u001b[38;5;241m=\u001b[39mout, mode\u001b[38;5;241m=\u001b[39mmode)\n",
      "File \u001b[0;32m~/anaconda3/lib/python3.12/site-packages/numpy/core/fromnumeric.py:59\u001b[0m, in \u001b[0;36m_wrapfunc\u001b[0;34m(obj, method, *args, **kwds)\u001b[0m\n\u001b[1;32m     56\u001b[0m     \u001b[38;5;28;01mreturn\u001b[39;00m _wrapit(obj, method, \u001b[38;5;241m*\u001b[39margs, \u001b[38;5;241m*\u001b[39m\u001b[38;5;241m*\u001b[39mkwds)\n\u001b[1;32m     58\u001b[0m \u001b[38;5;28;01mtry\u001b[39;00m:\n\u001b[0;32m---> 59\u001b[0m     \u001b[38;5;28;01mreturn\u001b[39;00m bound(\u001b[38;5;241m*\u001b[39margs, \u001b[38;5;241m*\u001b[39m\u001b[38;5;241m*\u001b[39mkwds)\n\u001b[1;32m     60\u001b[0m \u001b[38;5;28;01mexcept\u001b[39;00m \u001b[38;5;167;01mTypeError\u001b[39;00m:\n\u001b[1;32m     61\u001b[0m     \u001b[38;5;66;03m# A TypeError occurs if the object does have such a method in its\u001b[39;00m\n\u001b[1;32m     62\u001b[0m     \u001b[38;5;66;03m# class, but its signature is not identical to that of NumPy's. This\u001b[39;00m\n\u001b[0;32m   (...)\u001b[0m\n\u001b[1;32m     66\u001b[0m     \u001b[38;5;66;03m# Call _wrapit from within the except clause to ensure a potential\u001b[39;00m\n\u001b[1;32m     67\u001b[0m     \u001b[38;5;66;03m# exception has a traceback chain.\u001b[39;00m\n\u001b[1;32m     68\u001b[0m     \u001b[38;5;28;01mreturn\u001b[39;00m _wrapit(obj, method, \u001b[38;5;241m*\u001b[39margs, \u001b[38;5;241m*\u001b[39m\u001b[38;5;241m*\u001b[39mkwds)\n",
      "\u001b[0;31mIndexError\u001b[0m: index 3 is out of bounds for axis 0 with size 3"
     ]
    }
   ],
   "source": [
    "#take\n",
    "# a1[3]\n",
    "#a1[-1]\n",
    "a1= np.array([1,2,3,4,5])\n",
    "np.take(a1,[3,-1])"
   ]
  },
  {
   "cell_type": "code",
   "execution_count": null,
   "id": "336f5832-432e-48c9-a4a8-47410958a9a2",
   "metadata": {},
   "outputs": [],
   "source": [
    "# argmin\n"
   ]
  },
  {
   "cell_type": "code",
   "execution_count": 229,
   "id": "900b44ff-52b6-4c90-b665-21b1ff1cc2e3",
   "metadata": {},
   "outputs": [
    {
     "data": {
      "text/plain": [
       "(array([0, 1, 2, 3, 4]),)"
      ]
     },
     "execution_count": 229,
     "metadata": {},
     "output_type": "execute_result"
    }
   ],
   "source": [
    "#nonzero ()\n",
    "np.nonzero(a1)"
   ]
  },
  {
   "cell_type": "code",
   "execution_count": 231,
   "id": "f621ed40-056a-4379-a73f-36cf9ee3d88e",
   "metadata": {},
   "outputs": [],
   "source": [
    "#starts function \n",
    "#min()\n",
    "#max()\n",
    "#median()\n",
    "#percentile()"
   ]
  },
  {
   "cell_type": "code",
   "execution_count": 233,
   "id": "7410034e-2170-4b18-8658-3db0c5baf3f6",
   "metadata": {},
   "outputs": [],
   "source": [
    "#math  function \n",
    "# np.sin()\n",
    "#cos()\n",
    "#log()\n",
    "# sqrt()\n",
    "#abs()\n",
    "#cell()\n",
    "#(floor()\n"
   ]
  },
  {
   "cell_type": "code",
   "execution_count": 249,
   "id": "2b14653b-9889-4046-a49c-c1d8b08d7b35",
   "metadata": {},
   "outputs": [
    {
     "data": {
      "text/plain": [
       "60.0"
      ]
     },
     "execution_count": 249,
     "metadata": {},
     "output_type": "execute_result"
    }
   ],
   "source": [
    "a1 = np.array([100,200,50])\n",
    "\n",
    "np.percentile(a1,10)"
   ]
  },
  {
   "cell_type": "code",
   "execution_count": null,
   "id": "dfa0db98-8ad7-4599-872c-76aac459df97",
   "metadata": {},
   "outputs": [],
   "source": []
  }
 ],
 "metadata": {
  "kernelspec": {
   "display_name": "Python [conda env:base] *",
   "language": "python",
   "name": "conda-base-py"
  },
  "language_info": {
   "codemirror_mode": {
    "name": "ipython",
    "version": 3
   },
   "file_extension": ".py",
   "mimetype": "text/x-python",
   "name": "python",
   "nbconvert_exporter": "python",
   "pygments_lexer": "ipython3",
   "version": "3.12.7"
  }
 },
 "nbformat": 4,
 "nbformat_minor": 5
}
